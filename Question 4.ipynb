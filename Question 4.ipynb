{
 "cells": [
  {
   "cell_type": "markdown",
   "id": "93d792df-df45-46e2-8d54-ff8722c3a654",
   "metadata": {
    "canvas": {
     "comments": [],
     "componentType": "CodeCell",
     "copiedOriginId": null,
     "diskcache": false,
     "headerColor": "inherit",
     "id": "02f6a620-c592-4e4f-9394-bc82c4a20b23",
     "isComponent": false,
     "name": "",
     "parents": []
    }
   },
   "source": [
    "## 4. Soru \n",
    "\n",
    "- Forward propagation için, input olarak şu X matrisini verin (tensöre çevirmeyi unutmayın):\n",
    "\n",
    "    $X = \\begin{bmatrix}\n",
    "        1 & 2 & 3\\\\\n",
    "        4 & 5 & 6\n",
    "    \\end{bmatrix}$\n",
    "\n",
    "    Satırlar veriler (sample'lar), kolonlar öznitelikler (feature'lar).\n",
    "\n",
    "- Bir adet hidden layer olsun ve içinde tanh aktivasyon fonksiyonu olsun.\n",
    "\n",
    "- Hidden layer'da 50 nöron olsun.\n",
    "\n",
    "- Bir adet output layer olsun, tek nöronu olsun ve içinde sigmoid aktivasyon fonksiyonu olsun.\n"
   ]
  },
  {
   "cell_type": "markdown",
   "id": "17ff61a7-60bf-4e30-bff1-4fab4afebe85",
   "metadata": {
    "canvas": {
     "comments": [],
     "componentType": "CodeCell",
     "copiedOriginId": "d813b23c-8870-4f9e-9060-57b8383cffa0",
     "diskcache": false,
     "headerColor": "inherit",
     "id": "97f7b564-07b8-4b30-9586-8957325e1dae",
     "isComponent": false,
     "name": "",
     "parents": []
    }
   },
   "source": [
    "* Kütüphanelerin import edilmesi"
   ]
  },
  {
   "cell_type": "code",
   "execution_count": 1,
   "id": "41eda1c1-a787-4cc5-bfec-3418c525c18a",
   "metadata": {
    "canvas": {
     "comments": [],
     "componentType": "CodeCell",
     "copiedOriginId": "b7218c41-959a-4c9c-96cb-f8dc0d18531b",
     "diskcache": false,
     "headerColor": "inherit",
     "id": "f96d63c4-dd73-4a96-a6dd-057e05c23487",
     "isComponent": false,
     "name": "",
     "parents": []
    }
   },
   "outputs": [],
   "source": [
    "import pandas as pd\n",
    "import numpy as np\n",
    "import seaborn as sbn\n",
    "import matplotlib.pyplot as plt\n",
    "import torch\n",
    "import torch.nn as nn"
   ]
  },
  {
   "cell_type": "markdown",
   "id": "d4ad5e8f-19ad-444a-a77e-7d748f30c305",
   "metadata": {
    "canvas": {
     "comments": [],
     "componentType": "CodeCell",
     "copiedOriginId": "49132b82-5f6b-44fe-b16b-d2a03ed6db8f",
     "diskcache": false,
     "headerColor": "inherit",
     "id": "5be764e8-02d9-49fb-be34-95408336d174",
     "isComponent": false,
     "name": "",
     "parents": []
    }
   },
   "source": [
    "* Tensörün oluşturulması"
   ]
  },
  {
   "cell_type": "code",
   "execution_count": 2,
   "id": "acbea7b0-4ae1-4895-be27-f8b8788f9a2a",
   "metadata": {
    "canvas": {
     "comments": [],
     "componentType": "CodeCell",
     "copiedOriginId": "9220daba-ec41-4575-b91d-cdb5c6a597e0",
     "diskcache": false,
     "headerColor": "inherit",
     "id": "cbe3d9b2-ec21-4972-b8de-f82c95cca9bb",
     "isComponent": false,
     "name": "",
     "parents": []
    }
   },
   "outputs": [],
   "source": [
    "x = np.arange(1,7).reshape(2,3)\n",
    "x = torch.tensor(x, dtype=torch.float32)"
   ]
  },
  {
   "cell_type": "code",
   "execution_count": 3,
   "id": "26285b07-92da-47bb-a688-e518cf14251f",
   "metadata": {
    "canvas": {
     "comments": [],
     "componentType": "CodeCell",
     "copiedOriginId": "877ee83f-da76-4de3-9e4e-9dbc5921e012",
     "diskcache": false,
     "headerColor": "inherit",
     "id": "fb27e851-709a-4811-9c9d-c64d12a5a198",
     "isComponent": false,
     "name": "",
     "parents": []
    }
   },
   "outputs": [
    {
     "data": {
      "text/plain": [
       "tensor([[1., 2., 3.],\n",
       "        [4., 5., 6.]])"
      ]
     },
     "execution_count": 3,
     "metadata": {},
     "output_type": "execute_result"
    }
   ],
   "source": [
    "x"
   ]
  },
  {
   "cell_type": "markdown",
   "id": "18a2da79-01eb-41de-a7ff-74385cbb1dd7",
   "metadata": {
    "canvas": {
     "comments": [],
     "componentType": "CodeCell",
     "copiedOriginId": "6480d6de-cf4e-49d4-a44a-658ba3193907",
     "diskcache": false,
     "headerColor": "inherit",
     "id": "63a2b91a-edf3-438f-a666-348b7ea7a16e",
     "isComponent": false,
     "name": "",
     "parents": []
    }
   },
   "source": [
    "* Sinir ağının oluşturulması ve seed değerinin set edilmesi"
   ]
  },
  {
   "cell_type": "markdown",
   "id": "d709e6f3-626b-4a6d-a4f1-7d510f1109c8",
   "metadata": {
    "canvas": {
     "comments": [],
     "componentType": "CodeCell",
     "copiedOriginId": "3cfe1bbf-8a1d-43f8-9e07-6ab468463163",
     "diskcache": false,
     "headerColor": "inherit",
     "id": "e4252eb4-0960-4ac4-b687-42c74b09b5f4",
     "isComponent": false,
     "name": "",
     "parents": []
    },
    "tags": []
   },
   "source": [
    "#### 4.1 Yukarıdaki yapay sinir ağını çalıştırmadan önce pytorch için Seed değerini 1 olarak set edin, kodu aşağıdaki kod bloğuna ve altına da sonucu yapıştırın"
   ]
  },
  {
   "cell_type": "code",
   "execution_count": 4,
   "id": "fec00634-bf56-4180-81b0-77d40553af0f",
   "metadata": {
    "canvas": {
     "comments": [],
     "componentType": "CodeCell",
     "copiedOriginId": "881ecac2-4bcf-4f0c-b79f-25afd6c1f338",
     "diskcache": false,
     "headerColor": "inherit",
     "id": "a42f4e0e-6285-47e7-b264-5b2ef8f2f767",
     "isComponent": false,
     "name": "",
     "parents": []
    }
   },
   "outputs": [
    {
     "name": "stdout",
     "output_type": "stream",
     "text": [
      "tensor([[0.4892],\n",
      "        [0.5566]], grad_fn=<MulBackward0>)\n"
     ]
    }
   ],
   "source": [
    "seed_value = 1\n",
    "torch.manual_seed(seed_value)\n",
    "\n",
    "class MLP(nn.Module):\n",
    "    def __init__(self, input_size, hidden_size, output_size):\n",
    "        super(MLP, self).__init__()\n",
    "        self.hidden_layer = nn.Linear(input_size, hidden_size)\n",
    "        self.output_layer = nn.Linear(hidden_size, output_size)\n",
    "\n",
    "    def forward(self, x):\n",
    "        x = torch.flatten(x, 1)\n",
    "        hidden_res = self.tanh_func(self.hidden_layer(x))\n",
    "        output = self.sigmoid_func(self.output_layer(hidden_res))\n",
    "        return output\n",
    "    \n",
    "    def sigmoid_func(self, x):\n",
    "        return 1 / (1 + torch.exp(-x))\n",
    "    \n",
    "    def tanh_func(self, x):\n",
    "        return (torch.exp(x) - torch.exp(-x)) / (torch.exp(x) + torch.exp(-x))\n",
    "\n",
    "input_size = x.shape[1]\n",
    "hidden_size = 50\n",
    "output_size = 1\n",
    "model = MLP(input_size, hidden_size, output_size)\n",
    "\n",
    "output = model(x)\n",
    "print(output)\n"
   ]
  },
  {
   "cell_type": "markdown",
   "id": "caacc7cb-ecce-401e-a31f-d221730b2b33",
   "metadata": {
    "canvas": {
     "comments": [],
     "componentType": "CodeCell",
     "copiedOriginId": "d6bc3b4c-3176-470c-a0ee-66e2a3b57a17",
     "diskcache": false,
     "headerColor": "inherit",
     "id": "4d46f230-d7bf-4d43-95e9-cafbd458a8e0",
     "isComponent": false,
     "name": "",
     "parents": []
    }
   },
   "source": [
    "#### 4.2 Yukarıdaki yapay sinir ağını çalıştırmadan önce Seed değerini öğrenci numaranız olarak değiştirip, kodu aşağıdaki kod bloğuna ve altına da sonucu yapıştırın"
   ]
  },
  {
   "cell_type": "code",
   "execution_count": 5,
   "id": "95b8b10f-e293-40c0-a713-b75520db6702",
   "metadata": {
    "canvas": {
     "comments": [],
     "componentType": "CodeCell",
     "copiedOriginId": "8da57e1f-dc15-4d7c-a9b4-16225973793a",
     "diskcache": false,
     "headerColor": "inherit",
     "id": "4214e02c-4536-48b6-acb0-593f1405354e",
     "isComponent": false,
     "name": "",
     "parents": []
    }
   },
   "outputs": [
    {
     "name": "stdout",
     "output_type": "stream",
     "text": [
      "tensor([[0.3700],\n",
      "        [0.3356]], grad_fn=<MulBackward0>)\n"
     ]
    }
   ],
   "source": [
    "seed_value = 190401037\n",
    "torch.manual_seed(seed_value)\n",
    "\n",
    "class MLP(nn.Module):\n",
    "    def __init__(self, input_size, hidden_size, output_size):\n",
    "        super(MLP, self).__init__()\n",
    "        self.hidden_layer = nn.Linear(input_size, hidden_size)\n",
    "        self.output_layer = nn.Linear(hidden_size, output_size)\n",
    "\n",
    "    def forward(self, x):\n",
    "        x = torch.flatten(x, 1)\n",
    "        hidden_res = self.tanh_func(self.hidden_layer(x))\n",
    "        output = self.sigmoid_func(self.output_layer(hidden_res))\n",
    "        return output\n",
    "    \n",
    "    def sigmoid_func(self, x):\n",
    "        return 1 / (1 + torch.exp(-x))\n",
    "    \n",
    "    def tanh_func(self, x):\n",
    "        return (torch.exp(x) - torch.exp(-x)) / (torch.exp(x) + torch.exp(-x))\n",
    "\n",
    "input_size = x.shape[1]\n",
    "hidden_size = 50\n",
    "output_size = 1\n",
    "model = MLP(input_size, hidden_size, output_size)\n",
    "\n",
    "output = model(x)\n",
    "print(output)\n"
   ]
  },
  {
   "cell_type": "code",
   "execution_count": null,
   "id": "024f38c1-fdb9-44a4-96b5-5d51c93e22d4",
   "metadata": {
    "canvas": {
     "comments": [],
     "componentType": "CodeCell",
     "copiedOriginId": null,
     "diskcache": false,
     "headerColor": "inherit",
     "id": "0af9f2fc-4c05-43be-aa8e-1ed08b2a9352",
     "isComponent": false,
     "name": "",
     "parents": []
    }
   },
   "outputs": [],
   "source": []
  }
 ],
 "metadata": {
  "canvas": {
   "colorPalette": [
    "inherit",
    "inherit",
    "inherit",
    "inherit",
    "inherit",
    "inherit",
    "inherit",
    "inherit",
    "inherit",
    "inherit"
   ],
   "parameters": []
  },
  "kernelspec": {
   "display_name": "Python 3 (ipykernel)",
   "language": "python",
   "name": "python3"
  },
  "language_info": {
   "codemirror_mode": {
    "name": "ipython",
    "version": 3
   },
   "file_extension": ".py",
   "mimetype": "text/x-python",
   "name": "python",
   "nbconvert_exporter": "python",
   "pygments_lexer": "ipython3",
   "version": "3.9.12"
  }
 },
 "nbformat": 4,
 "nbformat_minor": 5
}
