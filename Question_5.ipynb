{
 "cells": [
  {
   "cell_type": "markdown",
   "metadata": {
    "canvas": {
     "comments": [],
     "componentType": "CodeCell",
     "copiedOriginId": null,
     "diskcache": false,
     "headerColor": "inherit",
     "id": "d919ba7d-2ab4-4e47-a2cc-507151a0ba42",
     "isComponent": false,
     "name": "",
     "parents": []
    }
   },
   "source": [
    "## Soru 5"
   ]
  },
  {
   "cell_type": "markdown",
   "metadata": {
    "canvas": {
     "comments": [],
     "componentType": "CodeCell",
     "copiedOriginId": null,
     "diskcache": false,
     "headerColor": "inherit",
     "id": "3d605465-fa28-4f3e-af23-17f13218d4ec",
     "isComponent": false,
     "name": "",
     "parents": []
    }
   },
   "source": [
    "#### 5.1\n",
    "\n",
    "* Iki hidden layer’lı bir Multilayer Perceptron (MLP) oluşturun be ̧sinci ve altıncı haftalarda yaptı ̆gımız gibi. Hazır aktivasyon fonksiyonlarını kullanmak serbest.  ̇Ilk hidden layer’da 100, ikinci hidden layer’da 50 n oron olsun. Hidden layer’larda ReLU, output layer’da sigmoid aktivasyonu olsun.\n",
    "\n",
    "* Output layer’da ka ̧c n ̈oron olaca ̆gını veri setinden bakıp bulacaksınız. Elbette bu veriye uygun Cross Entropy loss y ̈ontemini uygulayacaksınız. Optimizasyon i ̧cin Stochastic Gradient Descent yeterli. Epoch sayınızı ve learning rate’i validasyon seti üzerinde denemeler yaparak (loss’lara overfit var mı diye bakarak) kendiniz belirleyeceksiniz. Batch size’ı 16 seçebilirsiniz."
   ]
  },
  {
   "cell_type": "markdown",
   "metadata": {
    "canvas": {
     "comments": [],
     "componentType": "CodeCell",
     "copiedOriginId": null,
     "diskcache": false,
     "headerColor": "inherit",
     "id": "087eeaf5-b931-49da-9775-484c6d3b5f9d",
     "isComponent": false,
     "name": "",
     "parents": []
    }
   },
   "source": [
    "#### 5.2\n",
    "\n",
    "* SEED=öğrenci numaranız set ettikten sonra altıncı haftada yazdığımız gibi training batch'lerinden eğitim loss'ları, validation batch'lerinden validasyon loss değerlerini hesaplayan kodu aşağıdaki kod bloğuna yapıştırın ve çıkan figürü de alta ekleyin."
   ]
  },
  {
   "cell_type": "markdown",
   "metadata": {
    "canvas": {
     "comments": [],
     "componentType": "CodeCell",
     "copiedOriginId": null,
     "diskcache": false,
     "headerColor": "inherit",
     "id": "c83c6479-2e4a-4fce-a757-375ab71b139f",
     "isComponent": false,
     "name": "",
     "parents": []
    }
   },
   "source": [
    "#### 5.3\n",
    "\n",
    "* SEED=öğrenci numaranız set ettikten sonra altıncı haftada ödev olarak verdiğim gibi earlystopping'deki en iyi modeli kullanarak, Prensesi İyileştir test setinden accuracy, F1, precision ve recall değerlerini hesaplayan kodu yazın ve sonucu da aşağı yapıştırın. \\%80'den fazla başarı bekliyorum test setinden. Daha düşükse başarı oranınız, nerede hata yaptığınızı bulmaya çalışın. \\%90'dan fazla başarı almak mümkün (ben denedim)."
   ]
  },
  {
   "cell_type": "code",
   "execution_count": 1,
   "metadata": {
    "canvas": {
     "comments": [],
     "componentType": "CodeCell",
     "copiedOriginId": null,
     "diskcache": false,
     "headerColor": "none",
     "id": "be635022-7ff0-4699-8634-fececbeeef30",
     "isComponent": false,
     "name": "",
     "parents": []
    },
    "id": "pQTaYpWc5kfm",
    "tags": []
   },
   "outputs": [],
   "source": [
    "import pandas as pd\n",
    "import numpy as np\n",
    "import seaborn as sbn\n",
    "import matplotlib.pyplot as plt\n",
    "import torch\n",
    "import torch.nn as nn"
   ]
  },
  {
   "cell_type": "code",
   "execution_count": 2,
   "metadata": {
    "canvas": {
     "comments": [],
     "componentType": "CodeCell",
     "copiedOriginId": null,
     "diskcache": false,
     "headerColor": "none",
     "id": "7f51d679-b0da-4756-a236-3fa4607c02af",
     "isComponent": false,
     "name": "",
     "parents": []
    },
    "colab": {
     "base_uri": "https://localhost:8080/",
     "height": 35
    },
    "id": "8azHrIEN52Mt",
    "outputId": "e3cac93b-0956-4e01-f314-224970836ac1"
   },
   "outputs": [
    {
     "data": {
      "application/vnd.google.colaboratory.intrinsic+json": {
       "type": "string"
      },
      "text/plain": [
       "'/content'"
      ]
     },
     "execution_count": 2,
     "metadata": {},
     "output_type": "execute_result"
    }
   ],
   "source": [
    "import os\n",
    "\n",
    "os.getcwd()"
   ]
  },
  {
   "cell_type": "code",
   "execution_count": 3,
   "metadata": {
    "canvas": {
     "comments": [],
     "componentType": "CodeCell",
     "copiedOriginId": null,
     "diskcache": false,
     "headerColor": "none",
     "id": "396fadf4-d6a6-4253-a8ac-0908c5f533c8",
     "isComponent": false,
     "name": "",
     "parents": []
    },
    "colab": {
     "base_uri": "https://localhost:8080/"
    },
    "id": "cpaDL7Ee6Ct9",
    "outputId": "17745429-75af-4f52-bf0a-41312341ff1e"
   },
   "outputs": [
    {
     "data": {
      "text/plain": [
       "['.config',\n",
       " 'cure_the_princess_test.csv',\n",
       " 'cure_the_princess_validation.csv',\n",
       " 'cure_the_princess_train.csv',\n",
       " 'sample_data']"
      ]
     },
     "execution_count": 3,
     "metadata": {},
     "output_type": "execute_result"
    }
   ],
   "source": [
    "os.listdir()"
   ]
  },
  {
   "cell_type": "markdown",
   "metadata": {
    "canvas": {
     "comments": [],
     "componentType": "CodeCell",
     "copiedOriginId": null,
     "diskcache": false,
     "headerColor": "none",
     "id": "db9799b0-011b-4993-bbd9-db6a31d56e8a",
     "isComponent": false,
     "name": "",
     "parents": []
    },
    "id": "5H__Snc06mOf"
   },
   "source": [
    "Verilerin yüklenmesi"
   ]
  },
  {
   "cell_type": "code",
   "execution_count": 4,
   "metadata": {
    "canvas": {
     "comments": [],
     "componentType": "CodeCell",
     "copiedOriginId": null,
     "diskcache": false,
     "headerColor": "none",
     "id": "e8d5a533-e48a-4cd9-bfd0-db7ea8fee217",
     "isComponent": false,
     "name": "",
     "parents": []
    },
    "id": "YC2iznOk6YFB"
   },
   "outputs": [],
   "source": [
    "train_data = pd.read_csv(\"cure_the_princess_train.csv\")\n",
    "test_data = pd.read_csv(\"cure_the_princess_test.csv\")\n",
    "valid_data = pd.read_csv(\"cure_the_princess_validation.csv\")"
   ]
  },
  {
   "cell_type": "code",
   "execution_count": 5,
   "metadata": {
    "canvas": {
     "comments": [],
     "componentType": "CodeCell",
     "copiedOriginId": null,
     "diskcache": false,
     "headerColor": "none",
     "id": "81a088a0-dda4-47a1-ad4a-fe7667c19c0c",
     "isComponent": false,
     "name": "",
     "parents": []
    },
    "colab": {
     "base_uri": "https://localhost:8080/"
    },
    "id": "BaVj_QN67GIk",
    "outputId": "b2e53137-290e-4fed-f70e-3564915a46d5"
   },
   "outputs": [
    {
     "name": "stdout",
     "output_type": "stream",
     "text": [
      "------------------------\n",
      "-------------------------\n"
     ]
    }
   ],
   "source": [
    "print(\"\\n\".center(50,\"-\"))"
   ]
  },
  {
   "cell_type": "code",
   "execution_count": 6,
   "metadata": {
    "canvas": {
     "comments": [],
     "componentType": "CodeCell",
     "copiedOriginId": null,
     "diskcache": false,
     "headerColor": "none",
     "id": "52a9937a-f302-408d-9c66-a1e5ec3422ee",
     "isComponent": false,
     "name": "",
     "parents": []
    },
    "id": "4VAZ1OF46iaO"
   },
   "outputs": [],
   "source": [
    "def df_features(df):\n",
    "  print(\"İlk 5 gözlem\\n\")\n",
    "  print(df.head(5))\n",
    "  print(\"\".center(50,\"-\"))\n",
    "  print(\"Son 5 gözlem\\n\")\n",
    "  print(df.head(5))\n",
    "  print(\"\".center(50,\"-\"))\n",
    "  print(\"\\n\")\n",
    "  print(\"Veri setinin boyutu {}\\n\".format(df.shape))\n",
    "  print(\"\".center(50,\"-\"))\n",
    "  print(\"Veri tipleri\")\n",
    "  print(df.info())\n",
    "  print(\"\".center(50,\"-\"))\n",
    "  print(\"\\n\")\n",
    "  print(\"Boş değerlerin sayısı\")\n",
    "  df.isnull().sum().plot.barh()\n",
    "  plt.xlim([0,100])\n",
    "  plt.title(\"Boş değerlerin sayısının sütun grafiği\")\n",
    "  plt.xlabel(\"Veri sayısı\")\n",
    "  plt.ylabel(\"Kolonlar\")\n",
    "  plt.show()\n",
    "  print(\"\".center(50,\"-\"))\n",
    "  print(\"\\n\")\n",
    "  print(\"Özet istatistikler\")\n",
    "  print(df.describe(np.arange(.1,1,.1)).T)"
   ]
  },
  {
   "cell_type": "code",
   "execution_count": 7,
   "metadata": {
    "canvas": {
     "comments": [],
     "componentType": "CodeCell",
     "copiedOriginId": null,
     "diskcache": false,
     "headerColor": "none",
     "id": "61e1f727-5f22-47fb-85b8-fc892822be53",
     "isComponent": false,
     "name": "",
     "parents": []
    },
    "colab": {
     "base_uri": "https://localhost:8080/",
     "height": 1000
    },
    "id": "y_mfZjJ06tzS",
    "outputId": "b3a9020c-ff30-4a63-974c-538a783a6103"
   },
   "outputs": [
    {
     "name": "stdout",
     "output_type": "stream",
     "text": [
      "İlk 5 gözlem\n",
      "\n",
      "   Phoenix Feather  Unicorn Horn  Dragon's Blood  Mermaid Tears  Fairy Dust  \\\n",
      "0             18.8           1.5            19.7            1.1        19.5   \n",
      "1              6.0           3.8            12.4           16.9        13.0   \n",
      "2             22.4           7.9            28.6           11.2         5.4   \n",
      "3             10.8           4.6             5.1           16.7        20.8   \n",
      "4              3.7           5.7             9.0            3.3        17.4   \n",
      "\n",
      "   Goblin Toes  Witch's Brew  Griffin Claw  Troll Hair  Kraken Ink  \\\n",
      "0         30.1          16.5           9.9        27.3         1.8   \n",
      "1         12.6          17.0          25.4         7.7        14.6   \n",
      "2          9.3          11.5          10.7         9.4        11.1   \n",
      "3         27.1           7.8          15.5        34.0         7.6   \n",
      "4         33.3           7.6          20.1        11.5         6.1   \n",
      "\n",
      "   Minotaur Horn  Basilisk Scale  Chimera Fang  Cured  \n",
      "0           18.9            25.3           2.0      1  \n",
      "1            3.8            23.7          17.9      0  \n",
      "2           21.4            29.1           7.5      0  \n",
      "3           16.5            27.3           3.2      1  \n",
      "4            5.2             6.1           1.9      0  \n",
      "--------------------------------------------------\n",
      "Son 5 gözlem\n",
      "\n",
      "   Phoenix Feather  Unicorn Horn  Dragon's Blood  Mermaid Tears  Fairy Dust  \\\n",
      "0             18.8           1.5            19.7            1.1        19.5   \n",
      "1              6.0           3.8            12.4           16.9        13.0   \n",
      "2             22.4           7.9            28.6           11.2         5.4   \n",
      "3             10.8           4.6             5.1           16.7        20.8   \n",
      "4              3.7           5.7             9.0            3.3        17.4   \n",
      "\n",
      "   Goblin Toes  Witch's Brew  Griffin Claw  Troll Hair  Kraken Ink  \\\n",
      "0         30.1          16.5           9.9        27.3         1.8   \n",
      "1         12.6          17.0          25.4         7.7        14.6   \n",
      "2          9.3          11.5          10.7         9.4        11.1   \n",
      "3         27.1           7.8          15.5        34.0         7.6   \n",
      "4         33.3           7.6          20.1        11.5         6.1   \n",
      "\n",
      "   Minotaur Horn  Basilisk Scale  Chimera Fang  Cured  \n",
      "0           18.9            25.3           2.0      1  \n",
      "1            3.8            23.7          17.9      0  \n",
      "2           21.4            29.1           7.5      0  \n",
      "3           16.5            27.3           3.2      1  \n",
      "4            5.2             6.1           1.9      0  \n",
      "--------------------------------------------------\n",
      "\n",
      "\n",
      "Veri setinin boyutu (1252, 14)\n",
      "\n",
      "--------------------------------------------------\n",
      "Veri tipleri\n",
      "<class 'pandas.core.frame.DataFrame'>\n",
      "RangeIndex: 1252 entries, 0 to 1251\n",
      "Data columns (total 14 columns):\n",
      " #   Column           Non-Null Count  Dtype  \n",
      "---  ------           --------------  -----  \n",
      " 0   Phoenix Feather  1252 non-null   float64\n",
      " 1   Unicorn Horn     1252 non-null   float64\n",
      " 2   Dragon's Blood   1252 non-null   float64\n",
      " 3   Mermaid Tears    1252 non-null   float64\n",
      " 4   Fairy Dust       1252 non-null   float64\n",
      " 5   Goblin Toes      1252 non-null   float64\n",
      " 6   Witch's Brew     1252 non-null   float64\n",
      " 7   Griffin Claw     1252 non-null   float64\n",
      " 8   Troll Hair       1252 non-null   float64\n",
      " 9   Kraken Ink       1252 non-null   float64\n",
      " 10  Minotaur Horn    1252 non-null   float64\n",
      " 11  Basilisk Scale   1252 non-null   float64\n",
      " 12  Chimera Fang     1252 non-null   float64\n",
      " 13  Cured            1252 non-null   int64  \n",
      "dtypes: float64(13), int64(1)\n",
      "memory usage: 137.1 KB\n",
      "None\n",
      "--------------------------------------------------\n",
      "\n",
      "\n",
      "Boş değerlerin sayısı\n"
     ]
    },
    {
     "data": {
      "image/png": "[encoded data removed]",
      "text/plain": [
       "<Figure size 640x480 with 1 Axes>"
      ]
     },
     "metadata": {},
     "output_type": "display_data"
    },
    {
     "name": "stdout",
     "output_type": "stream",
     "text": [
      "--------------------------------------------------\n",
      "\n",
      "\n",
      "Özet istatistikler\n",
      "                  count       mean       std  min   10%   20%    30%    40%  \\\n",
      "Phoenix Feather  1252.0  15.594808  8.690439  1.0  4.21  7.52  10.10  12.50   \n",
      "Unicorn Horn     1252.0  10.888259  7.090822  1.0  2.50  4.30   6.10   8.00   \n",
      "Dragon's Blood   1252.0  16.205351  8.600624  1.0  4.90  8.02  10.80  13.60   \n",
      "Mermaid Tears    1252.0  13.593291  7.559646  1.0  4.10  6.30   8.73  10.80   \n",
      "Fairy Dust       1252.0  15.157268  8.500822  1.0  3.80  7.00   9.90  12.30   \n",
      "Goblin Toes      1252.0  14.147764  7.838616  1.0  3.91  6.62   9.10  11.60   \n",
      "Witch's Brew     1252.0  12.313419  7.669482  1.0  3.10  5.30   7.30   9.04   \n",
      "Griffin Claw     1252.0  14.816294  8.195773  1.0  4.40  7.00   9.50  11.70   \n",
      "Troll Hair       1252.0  16.951358  9.743922  1.0  4.20  7.40  10.26  13.34   \n",
      "Kraken Ink       1252.0  14.809984  8.017919  1.0  4.11  7.20  10.00  12.00   \n",
      "Minotaur Horn    1252.0  10.938658  7.026068  1.0  2.80  4.30   6.03   8.00   \n",
      "Basilisk Scale   1252.0  15.470048  8.409232  1.0  4.51  7.50  10.20  12.64   \n",
      "Chimera Fang     1252.0  12.289856  8.190545  1.0  3.00  4.52   6.50   8.70   \n",
      "Cured            1252.0   0.492812  0.500148  0.0  0.00  0.00   0.00   0.00   \n",
      "\n",
      "                   50%    60%    70%    80%    90%   max  \n",
      "Phoenix Feather  14.80  17.50  20.00  23.28  27.50  42.1  \n",
      "Unicorn Horn      9.70  11.80  13.67  16.70  20.79  34.1  \n",
      "Dragon's Blood   15.80  18.20  20.70  23.80  27.79  40.8  \n",
      "Mermaid Tears    12.90  15.40  17.67  20.30  23.99  33.8  \n",
      "Fairy Dust       14.40  16.90  19.50  22.50  27.28  40.0  \n",
      "Goblin Toes      13.60  15.70  18.20  21.00  25.00  37.8  \n",
      "Witch's Brew     11.30  13.36  15.50  18.10  23.09  37.3  \n",
      "Griffin Claw     14.15  16.40  19.00  22.10  26.09  39.4  \n",
      "Troll Hair       16.30  19.36  22.77  26.10  30.19  44.0  \n",
      "Kraken Ink       14.20  16.50  19.00  21.70  25.70  39.5  \n",
      "Minotaur Horn     9.80  11.70  14.00  16.88  21.29  32.9  \n",
      "Basilisk Scale   15.00  17.16  19.70  23.20  27.10  42.0  \n",
      "Chimera Fang     10.70  13.10  16.00  19.48  23.59  37.3  \n",
      "Cured             0.00   1.00   1.00   1.00   1.00   1.0  \n"
     ]
    }
   ],
   "source": [
    "df_features(train_data)"
   ]
  },
  {
   "cell_type": "code",
   "execution_count": 8,
   "metadata": {
    "canvas": {
     "comments": [],
     "componentType": "CodeCell",
     "copiedOriginId": null,
     "diskcache": false,
     "headerColor": "none",
     "id": "e9421056-5170-4a0d-8bcd-be6188ed02c5",
     "isComponent": false,
     "name": "",
     "parents": []
    },
    "colab": {
     "base_uri": "https://localhost:8080/",
     "height": 1000
    },
    "id": "FaNnonMB6wHG",
    "outputId": "77c44d3c-3e86-4cbe-bc35-5232970a0c17"
   },
   "outputs": [
    {
     "name": "stdout",
     "output_type": "stream",
     "text": [
      "İlk 5 gözlem\n",
      "\n",
      "   Phoenix Feather  Unicorn Horn  Dragon's Blood  Mermaid Tears  Fairy Dust  \\\n",
      "0             10.0          15.3            27.1           13.3        18.1   \n",
      "1             31.6           1.9            25.2           17.9        16.4   \n",
      "2             22.4           9.2            23.7           14.9        18.2   \n",
      "3             24.5           2.3             2.2           26.2         7.3   \n",
      "4              3.2          20.2            12.9           13.3         7.7   \n",
      "\n",
      "   Goblin Toes  Witch's Brew  Griffin Claw  Troll Hair  Kraken Ink  \\\n",
      "0         12.3           4.8          24.0        10.0        17.5   \n",
      "1          2.4           4.2           6.4        32.5        21.9   \n",
      "2         10.5           6.8          15.3        21.0        16.8   \n",
      "3          2.8          20.6           7.8        23.0        17.0   \n",
      "4         29.6           2.6          12.9        12.7        13.8   \n",
      "\n",
      "   Minotaur Horn  Basilisk Scale  Chimera Fang  Cured  \n",
      "0            5.9            27.6           8.6      0  \n",
      "1           19.7            12.4          17.4      1  \n",
      "2           31.6            19.4          11.6      0  \n",
      "3            2.7             7.6          26.0      1  \n",
      "4            8.9             6.5           9.1      0  \n",
      "--------------------------------------------------\n",
      "Son 5 gözlem\n",
      "\n",
      "   Phoenix Feather  Unicorn Horn  Dragon's Blood  Mermaid Tears  Fairy Dust  \\\n",
      "0             10.0          15.3            27.1           13.3        18.1   \n",
      "1             31.6           1.9            25.2           17.9        16.4   \n",
      "2             22.4           9.2            23.7           14.9        18.2   \n",
      "3             24.5           2.3             2.2           26.2         7.3   \n",
      "4              3.2          20.2            12.9           13.3         7.7   \n",
      "\n",
      "   Goblin Toes  Witch's Brew  Griffin Claw  Troll Hair  Kraken Ink  \\\n",
      "0         12.3           4.8          24.0        10.0        17.5   \n",
      "1          2.4           4.2           6.4        32.5        21.9   \n",
      "2         10.5           6.8          15.3        21.0        16.8   \n",
      "3          2.8          20.6           7.8        23.0        17.0   \n",
      "4         29.6           2.6          12.9        12.7        13.8   \n",
      "\n",
      "   Minotaur Horn  Basilisk Scale  Chimera Fang  Cured  \n",
      "0            5.9            27.6           8.6      0  \n",
      "1           19.7            12.4          17.4      1  \n",
      "2           31.6            19.4          11.6      0  \n",
      "3            2.7             7.6          26.0      1  \n",
      "4            8.9             6.5           9.1      0  \n",
      "--------------------------------------------------\n",
      "\n",
      "\n",
      "Veri setinin boyutu (772, 14)\n",
      "\n",
      "--------------------------------------------------\n",
      "Veri tipleri\n",
      "<class 'pandas.core.frame.DataFrame'>\n",
      "RangeIndex: 772 entries, 0 to 771\n",
      "Data columns (total 14 columns):\n",
      " #   Column           Non-Null Count  Dtype  \n",
      "---  ------           --------------  -----  \n",
      " 0   Phoenix Feather  772 non-null    float64\n",
      " 1   Unicorn Horn     772 non-null    float64\n",
      " 2   Dragon's Blood   772 non-null    float64\n",
      " 3   Mermaid Tears    772 non-null    float64\n",
      " 4   Fairy Dust       772 non-null    float64\n",
      " 5   Goblin Toes      772 non-null    float64\n",
      " 6   Witch's Brew     772 non-null    float64\n",
      " 7   Griffin Claw     772 non-null    float64\n",
      " 8   Troll Hair       772 non-null    float64\n",
      " 9   Kraken Ink       772 non-null    float64\n",
      " 10  Minotaur Horn    772 non-null    float64\n",
      " 11  Basilisk Scale   772 non-null    float64\n",
      " 12  Chimera Fang     772 non-null    float64\n",
      " 13  Cured            772 non-null    int64  \n",
      "dtypes: float64(13), int64(1)\n",
      "memory usage: 84.6 KB\n",
      "None\n",
      "--------------------------------------------------\n",
      "\n",
      "\n",
      "Boş değerlerin sayısı\n"
     ]
    },
    {
     "data": {
      "image/png": "[encoded data removed]",
      "text/plain": [
       "<Figure size 640x480 with 1 Axes>"
      ]
     },
     "metadata": {},
     "output_type": "display_data"
    },
    {
     "name": "stdout",
     "output_type": "stream",
     "text": [
      "--------------------------------------------------\n",
      "\n",
      "\n",
      "Özet istatistikler\n",
      "                 count       mean       std  min   10%   20%    30%    40%  \\\n",
      "Phoenix Feather  772.0  15.527591  8.752267  1.1  3.91  6.90  10.10  12.84   \n",
      "Unicorn Horn     772.0  10.832513  7.174934  1.0  2.70  4.10   6.00   7.70   \n",
      "Dragon's Blood   772.0  15.990026  8.221284  1.1  5.31  7.92  11.00  13.34   \n",
      "Mermaid Tears    772.0  13.597280  7.579365  1.0  3.70  6.30   8.60  10.80   \n",
      "Fairy Dust       772.0  15.099611  8.251604  1.0  4.40  7.60   9.70  12.30   \n",
      "Goblin Toes      772.0  14.146891  7.902114  1.0  3.70  6.70   9.53  11.70   \n",
      "Witch's Brew     772.0  12.219948  7.809096  1.0  2.90  4.90   7.00   9.10   \n",
      "Griffin Claw     772.0  14.953756  8.198907  1.0  4.21  6.90   9.93  12.30   \n",
      "Troll Hair       772.0  17.180829  9.515024  1.0  4.40  7.90  11.33  14.24   \n",
      "Kraken Ink       772.0  15.027073  8.010005  1.0  4.40  7.20  10.00  12.44   \n",
      "Minotaur Horn    772.0  11.049611  7.082850  1.0  2.70  4.50   6.30   8.10   \n",
      "Basilisk Scale   772.0  15.720725  8.904231  1.0  4.20  7.60  10.13  12.64   \n",
      "Chimera Fang     772.0  11.883938  7.891071  1.0  2.50  4.62   6.73   8.54   \n",
      "Cured            772.0   0.502591  0.500317  0.0  0.00  0.00   0.00   0.00   \n",
      "\n",
      "                   50%    60%    70%    80%    90%   max  \n",
      "Phoenix Feather  15.35  17.30  19.90  23.28  28.28  41.3  \n",
      "Unicorn Horn      9.30  11.26  13.84  16.88  21.20  34.1  \n",
      "Dragon's Blood   15.90  18.16  20.60  22.98  26.99  40.2  \n",
      "Mermaid Tears    13.20  15.30  17.77  20.50  24.09  35.8  \n",
      "Fairy Dust       14.80  17.00  18.97  22.40  26.78  40.4  \n",
      "Goblin Toes      13.40  15.60  17.70  20.78  25.28  36.3  \n",
      "Witch's Brew     11.00  13.40  15.60  18.30  23.09  36.7  \n",
      "Griffin Claw     14.50  16.80  19.10  22.30  26.50  37.7  \n",
      "Troll Hair       16.70  19.40  22.20  25.60  30.40  44.8  \n",
      "Kraken Ink       14.75  17.30  19.40  21.90  25.60  39.3  \n",
      "Minotaur Horn     9.70  11.90  14.60  16.98  21.38  33.7  \n",
      "Basilisk Scale   15.20  17.36  20.30  22.80  28.46  41.6  \n",
      "Chimera Fang     10.30  12.66  15.57  18.50  22.98  37.6  \n",
      "Cured             1.00   1.00   1.00   1.00   1.00   1.0  \n"
     ]
    }
   ],
   "source": [
    "df_features(test_data)"
   ]
  },
  {
   "cell_type": "code",
   "execution_count": 9,
   "metadata": {
    "canvas": {
     "comments": [],
     "componentType": "CodeCell",
     "copiedOriginId": null,
     "diskcache": false,
     "headerColor": "none",
     "id": "236b82d8-777e-4fc1-b421-1fb71383f749",
     "isComponent": false,
     "name": "",
     "parents": []
    },
    "colab": {
     "base_uri": "https://localhost:8080/",
     "height": 1000
    },
    "id": "3z_6YIGd8nXe",
    "outputId": "b40094b2-f963-46ea-c20b-646601d3fe23"
   },
   "outputs": [
    {
     "name": "stdout",
     "output_type": "stream",
     "text": [
      "İlk 5 gözlem\n",
      "\n",
      "   Phoenix Feather  Unicorn Horn  Dragon's Blood  Mermaid Tears  Fairy Dust  \\\n",
      "0             13.1           7.6            11.6           11.0         4.7   \n",
      "1             24.8          26.4            13.4            3.7         8.8   \n",
      "2              5.8          21.2             6.8           13.2        26.2   \n",
      "3              6.5          13.8            25.5            3.8        12.9   \n",
      "4             22.1          17.4             4.9           20.8        10.8   \n",
      "\n",
      "   Goblin Toes  Witch's Brew  Griffin Claw  Troll Hair  Kraken Ink  \\\n",
      "0         26.8           6.1           4.5        17.1         8.6   \n",
      "1         37.0           1.7          14.3        30.2         5.1   \n",
      "2         14.5          20.1          26.4         9.0         3.1   \n",
      "3          5.0           1.9          18.7         1.4         9.4   \n",
      "4          9.4           7.3          15.2        33.5        15.2   \n",
      "\n",
      "   Minotaur Horn  Basilisk Scale  Chimera Fang  Cured  \n",
      "0           10.0            13.7          18.6      0  \n",
      "1            2.0             2.7           5.6      1  \n",
      "2            6.5            17.9           3.8      1  \n",
      "3           24.4            22.7          10.7      0  \n",
      "4           20.0            18.6          14.4      1  \n",
      "--------------------------------------------------\n",
      "Son 5 gözlem\n",
      "\n",
      "   Phoenix Feather  Unicorn Horn  Dragon's Blood  Mermaid Tears  Fairy Dust  \\\n",
      "0             13.1           7.6            11.6           11.0         4.7   \n",
      "1             24.8          26.4            13.4            3.7         8.8   \n",
      "2              5.8          21.2             6.8           13.2        26.2   \n",
      "3              6.5          13.8            25.5            3.8        12.9   \n",
      "4             22.1          17.4             4.9           20.8        10.8   \n",
      "\n",
      "   Goblin Toes  Witch's Brew  Griffin Claw  Troll Hair  Kraken Ink  \\\n",
      "0         26.8           6.1           4.5        17.1         8.6   \n",
      "1         37.0           1.7          14.3        30.2         5.1   \n",
      "2         14.5          20.1          26.4         9.0         3.1   \n",
      "3          5.0           1.9          18.7         1.4         9.4   \n",
      "4          9.4           7.3          15.2        33.5        15.2   \n",
      "\n",
      "   Minotaur Horn  Basilisk Scale  Chimera Fang  Cured  \n",
      "0           10.0            13.7          18.6      0  \n",
      "1            2.0             2.7           5.6      1  \n",
      "2            6.5            17.9           3.8      1  \n",
      "3           24.4            22.7          10.7      0  \n",
      "4           20.0            18.6          14.4      1  \n",
      "--------------------------------------------------\n",
      "\n",
      "\n",
      "Veri setinin boyutu (314, 14)\n",
      "\n",
      "--------------------------------------------------\n",
      "Veri tipleri\n",
      "<class 'pandas.core.frame.DataFrame'>\n",
      "RangeIndex: 314 entries, 0 to 313\n",
      "Data columns (total 14 columns):\n",
      " #   Column           Non-Null Count  Dtype  \n",
      "---  ------           --------------  -----  \n",
      " 0   Phoenix Feather  314 non-null    float64\n",
      " 1   Unicorn Horn     314 non-null    float64\n",
      " 2   Dragon's Blood   314 non-null    float64\n",
      " 3   Mermaid Tears    314 non-null    float64\n",
      " 4   Fairy Dust       314 non-null    float64\n",
      " 5   Goblin Toes      314 non-null    float64\n",
      " 6   Witch's Brew     314 non-null    float64\n",
      " 7   Griffin Claw     314 non-null    float64\n",
      " 8   Troll Hair       314 non-null    float64\n",
      " 9   Kraken Ink       314 non-null    float64\n",
      " 10  Minotaur Horn    314 non-null    float64\n",
      " 11  Basilisk Scale   314 non-null    float64\n",
      " 12  Chimera Fang     314 non-null    float64\n",
      " 13  Cured            314 non-null    int64  \n",
      "dtypes: float64(13), int64(1)\n",
      "memory usage: 34.5 KB\n",
      "None\n",
      "--------------------------------------------------\n",
      "\n",
      "\n",
      "Boş değerlerin sayısı\n"
     ]
    },
    {
     "data": {
      "image/png": "[encoded data removed]",
      "text/plain": [
       "<Figure size 640x480 with 1 Axes>"
      ]
     },
     "metadata": {},
     "output_type": "display_data"
    },
    {
     "name": "stdout",
     "output_type": "stream",
     "text": [
      "--------------------------------------------------\n",
      "\n",
      "\n",
      "Özet istatistikler\n",
      "                 count       mean       std  min   10%   20%    30%    40%  \\\n",
      "Phoenix Feather  314.0  14.054140  8.288315  1.0  3.59  6.40   9.29  11.50   \n",
      "Unicorn Horn     314.0  11.460828  7.854546  1.2  2.50  3.96   5.89   7.80   \n",
      "Dragon's Blood   314.0  16.066879  7.821813  1.0  5.90  9.10  11.39  13.40   \n",
      "Mermaid Tears    314.0  13.841720  7.422994  1.1  4.03  7.16   9.39  11.00   \n",
      "Fairy Dust       314.0  14.645541  7.983633  1.0  4.10  7.46   9.60  11.70   \n",
      "Goblin Toes      314.0  14.220701  7.650779  1.2  5.03  7.00   8.90  11.72   \n",
      "Witch's Brew     314.0  12.658599  7.639280  1.0  3.40  6.00   7.49   9.10   \n",
      "Griffin Claw     314.0  15.185032  7.724336  1.0  4.53  7.40  11.39  13.02   \n",
      "Troll Hair       314.0  15.793949  9.010725  1.0  3.90  6.58   9.20  12.40   \n",
      "Kraken Ink       314.0  14.876433  8.030729  1.7  4.60  7.36  10.00  11.90   \n",
      "Minotaur Horn    314.0  10.498089  7.035333  1.0  2.50  4.00   5.70   7.42   \n",
      "Basilisk Scale   314.0  14.120701  8.193880  1.1  3.90  6.80   9.30  11.30   \n",
      "Chimera Fang     314.0  11.755096  7.852514  1.0  2.83  4.40   6.40   7.50   \n",
      "Cured            314.0   0.496815  0.500788  0.0  0.00  0.00   0.00   0.00   \n",
      "\n",
      "                   50%    60%    70%    80%    90%   max  \n",
      "Phoenix Feather  13.35  15.20  17.31  20.86  25.34  38.2  \n",
      "Unicorn Horn      9.70  11.88  15.11  18.74  23.77  33.5  \n",
      "Dragon's Blood   15.90  18.00  19.71  22.90  26.98  38.0  \n",
      "Mermaid Tears    13.35  15.50  18.20  20.74  24.10  34.1  \n",
      "Fairy Dust       13.90  16.68  18.60  21.04  25.88  37.8  \n",
      "Goblin Toes      13.40  16.00  17.70  20.58  24.71  37.1  \n",
      "Witch's Brew     11.40  14.40  16.51  19.44  23.50  37.3  \n",
      "Griffin Claw     14.90  16.78  19.11  22.04  25.47  35.6  \n",
      "Troll Hair       15.55  18.48  21.20  24.60  28.40  38.2  \n",
      "Kraken Ink       14.00  16.68  18.60  21.74  25.18  39.4  \n",
      "Minotaur Horn     9.10  11.46  13.11  16.04  20.77  31.9  \n",
      "Basilisk Scale   12.90  15.08  17.90  21.16  24.67  40.0  \n",
      "Chimera Fang     10.15  12.98  15.30  19.00  23.17  37.8  \n",
      "Cured             0.00   1.00   1.00   1.00   1.00   1.0  \n"
     ]
    }
   ],
   "source": [
    "df_features(valid_data)"
   ]
  },
  {
   "cell_type": "markdown",
   "metadata": {
    "canvas": {
     "comments": [],
     "componentType": "CodeCell",
     "copiedOriginId": null,
     "diskcache": false,
     "headerColor": "none",
     "id": "1fc322bb-eacb-4f6a-8134-72bfabebeb6e",
     "isComponent": false,
     "name": "",
     "parents": []
    },
    "id": "7x7kJ2b8-UIe"
   },
   "source": [
    "Hedef değişkenimiz olan Cured kolonunda hangi değişken bulunuyor  ve bunların sayısı nedir ?"
   ]
  },
  {
   "cell_type": "code",
   "execution_count": 10,
   "metadata": {
    "canvas": {
     "comments": [],
     "componentType": "CodeCell",
     "copiedOriginId": null,
     "diskcache": false,
     "headerColor": "none",
     "id": "33b46e35-a757-4afa-85d9-7e8bd87601c6",
     "isComponent": false,
     "name": "",
     "parents": []
    },
    "colab": {
     "base_uri": "https://localhost:8080/"
    },
    "id": "n-rWhy-t9XTe",
    "outputId": "958a5888-ff53-4d03-8b1f-c4fe5efc536c"
   },
   "outputs": [
    {
     "data": {
      "text/plain": [
       "0    635\n",
       "1    617\n",
       "Name: Cured, dtype: int64"
      ]
     },
     "execution_count": 10,
     "metadata": {},
     "output_type": "execute_result"
    }
   ],
   "source": [
    "train_data[\"Cured\"].value_counts()"
   ]
  },
  {
   "cell_type": "code",
   "execution_count": 11,
   "metadata": {
    "canvas": {
     "comments": [],
     "componentType": "CodeCell",
     "copiedOriginId": null,
     "diskcache": false,
     "headerColor": "none",
     "id": "22b50b97-ff20-46c7-b36f-f18e706de751",
     "isComponent": false,
     "name": "",
     "parents": []
    },
    "colab": {
     "base_uri": "https://localhost:8080/"
    },
    "id": "LQ_gjGhp9Llg",
    "outputId": "66cf58d9-315a-48b5-d89f-67db5b1ecfb9"
   },
   "outputs": [
    {
     "data": {
      "text/plain": [
       "1    388\n",
       "0    384\n",
       "Name: Cured, dtype: int64"
      ]
     },
     "execution_count": 11,
     "metadata": {},
     "output_type": "execute_result"
    }
   ],
   "source": [
    "test_data[\"Cured\"].value_counts()"
   ]
  },
  {
   "cell_type": "code",
   "execution_count": 12,
   "metadata": {
    "canvas": {
     "comments": [],
     "componentType": "CodeCell",
     "copiedOriginId": null,
     "diskcache": false,
     "headerColor": "none",
     "id": "a2e3fb2e-9654-44da-b769-36a69a25d49c",
     "isComponent": false,
     "name": "",
     "parents": []
    },
    "colab": {
     "base_uri": "https://localhost:8080/"
    },
    "id": "LLPQLSvU99J-",
    "outputId": "a367dfac-3696-48eb-f5db-844f2605621e"
   },
   "outputs": [
    {
     "data": {
      "text/plain": [
       "0    158\n",
       "1    156\n",
       "Name: Cured, dtype: int64"
      ]
     },
     "execution_count": 12,
     "metadata": {},
     "output_type": "execute_result"
    }
   ],
   "source": [
    "valid_data[\"Cured\"].value_counts()"
   ]
  },
  {
   "cell_type": "markdown",
   "metadata": {
    "canvas": {
     "comments": [],
     "componentType": "CodeCell",
     "copiedOriginId": null,
     "diskcache": false,
     "headerColor": "none",
     "id": "9d437a7e-2352-4cf8-8263-3b1ffebe5ee9",
     "isComponent": false,
     "name": "",
     "parents": []
    },
    "id": "5y5Hl3PY-wkQ"
   },
   "source": [
    "0 ve 1 değişkenlerimiz bulunmaktadır. Yani binary classification yapacağız."
   ]
  },
  {
   "cell_type": "markdown",
   "metadata": {
    "canvas": {
     "comments": [],
     "componentType": "CodeCell",
     "copiedOriginId": null,
     "diskcache": false,
     "headerColor": "none",
     "id": "8aa866d4-0601-4aca-aedf-589b896c9cf1",
     "isComponent": false,
     "name": "",
     "parents": []
    },
    "id": "AvFujsI7-r3F"
   },
   "source": [
    "Model için verilerin ayarlanması"
   ]
  },
  {
   "cell_type": "code",
   "execution_count": 13,
   "metadata": {
    "canvas": {
     "comments": [],
     "componentType": "CodeCell",
     "copiedOriginId": null,
     "diskcache": false,
     "headerColor": "none",
     "id": "0a17f0d5-ac46-41cc-8a65-3ba3e504d2ef",
     "isComponent": false,
     "name": "",
     "parents": []
    },
    "id": "IJWzaBb69_rP"
   },
   "outputs": [],
   "source": [
    "np.random.seed(190401037)\n",
    "train_data = train_data.values\n",
    "np.random.shuffle(train_data)\n",
    "\n",
    "test_data = test_data.values\n",
    "np.random.shuffle(test_data)\n",
    "\n",
    "valid_data = valid_data.values\n",
    "np.random.shuffle(valid_data)"
   ]
  },
  {
   "cell_type": "code",
   "execution_count": 14,
   "metadata": {
    "canvas": {
     "comments": [],
     "componentType": "CodeCell",
     "copiedOriginId": null,
     "diskcache": false,
     "headerColor": "none",
     "id": "9f27c9bc-8a5c-4f5d-97e1-aaaf8a773047",
     "isComponent": false,
     "name": "",
     "parents": []
    },
    "id": "2ybfyMDeEvvZ"
   },
   "outputs": [],
   "source": [
    "x_train = train_data[:,:-1]\n",
    "y_train = train_data[:,-1]\n",
    "\n",
    "x_test = test_data[:,:-1]\n",
    "y_test = test_data[:,-1]\n",
    "\n",
    "x_valid = valid_data[:,:-1]\n",
    "y_valid = valid_data[:,-1]\n",
    "\n",
    "from sklearn.preprocessing import MinMaxScaler\n",
    "\n",
    "scaler = MinMaxScaler()\n",
    "\n",
    "x_train = scaler.fit_transform(x_train)\n",
    "y_train = scaler.fit_transform(y_train.reshape(-1,1))\n",
    "\n",
    "x_test = scaler.fit_transform(x_test)\n",
    "y_test = scaler.fit_transform(y_test.reshape(-1,1))\n",
    "\n",
    "x_valid = scaler.fit_transform(x_valid)\n",
    "y_valid = scaler.fit_transform(y_valid.reshape(-1,1))"
   ]
  },
  {
   "cell_type": "code",
   "execution_count": 15,
   "metadata": {
    "canvas": {
     "comments": [],
     "componentType": "CodeCell",
     "copiedOriginId": null,
     "diskcache": false,
     "headerColor": "none",
     "id": "94725693-8d86-44db-84c5-134e80f95a6e",
     "isComponent": false,
     "name": "",
     "parents": []
    },
    "id": "tTHNnBy5_msm"
   },
   "outputs": [],
   "source": [
    "def df_to_torch(df, dtype = torch.float32):\n",
    "\n",
    "  df = torch.tensor(df, dtype = dtype)\n",
    "  return df"
   ]
  },
  {
   "cell_type": "code",
   "execution_count": 16,
   "metadata": {
    "canvas": {
     "comments": [],
     "componentType": "CodeCell",
     "copiedOriginId": null,
     "diskcache": false,
     "headerColor": "none",
     "id": "74a1aca1-698d-4c32-b722-82707f854ea5",
     "isComponent": false,
     "name": "",
     "parents": []
    },
    "id": "crvRAdpe-3fX"
   },
   "outputs": [],
   "source": [
    "x_train = df_to_torch(x_train, dtype = torch.float32)\n",
    "y_train = df_to_torch(y_train, dtype = torch.float32).reshape(-1,1)\n",
    "x_test = df_to_torch(x_test, dtype = torch.float32)\n",
    "y_test = df_to_torch(y_test,dtype = torch.float32).reshape(-1,1)\n",
    "x_valid = df_to_torch(x_valid,dtype = torch.float32)\n",
    "y_valid = df_to_torch(y_valid,dtype = torch.float32).reshape(-1,1)"
   ]
  },
  {
   "cell_type": "code",
   "execution_count": 17,
   "metadata": {
    "canvas": {
     "comments": [],
     "componentType": "CodeCell",
     "copiedOriginId": null,
     "diskcache": false,
     "headerColor": "none",
     "id": "da6952c5-f1f5-4fa4-9d58-955f6ab5eb8f",
     "isComponent": false,
     "name": "",
     "parents": []
    },
    "colab": {
     "base_uri": "https://localhost:8080/"
    },
    "id": "Gey1f1fCC_N8",
    "outputId": "715d3f18-7412-4d8c-c009-a4d95b7baf2c"
   },
   "outputs": [
    {
     "data": {
      "text/plain": [
       "torch.Size([772, 1])"
      ]
     },
     "execution_count": 17,
     "metadata": {},
     "output_type": "execute_result"
    }
   ],
   "source": [
    "y_test.shape"
   ]
  },
  {
   "cell_type": "markdown",
   "metadata": {
    "canvas": {
     "comments": [],
     "componentType": "CodeCell",
     "copiedOriginId": null,
     "diskcache": false,
     "headerColor": "none",
     "id": "b5d6f339-8a58-4456-947e-93eb8efcdd74",
     "isComponent": false,
     "name": "",
     "parents": []
    },
    "id": "zDuCzoLhAiVa"
   },
   "source": [
    "MLP modelinin oluşturulması"
   ]
  },
  {
   "cell_type": "markdown",
   "metadata": {
    "canvas": {
     "comments": [],
     "componentType": "CodeCell",
     "copiedOriginId": null,
     "diskcache": false,
     "headerColor": "none",
     "id": "e6393c2d-e2bd-4376-beec-fd6a199ec892",
     "isComponent": false,
     "name": "",
     "parents": []
    },
    "id": "B314uWo4Audi"
   },
   "source": [
    "* İki hidden layer'lı bir Multilayer Perceptron (MLP) oluşturun beşinci ve altıncı haftalarda yaptığımız gibi. Hazır aktivasyon fonksiyonlarını kullanmak serbest. İlk hidden layer'da 100, ikinci hidden layer'da 50 nöron olsun. Hidden layer'larda ReLU, output layer'da sigmoid aktivasyonu olsun.\n",
    "\n",
    "* Output layer'da kaç nöron olacağını veri setinden bakıp bulacaksınız. Elbette bu veriye uygun Cross Entropy loss yöntemini uygulayacaksınız. Optimizasyon için Stochastic Gradient Descent yeterli. Epoch sayınızı ve learning rate'i validasyon seti üzerinde denemeler yaparak (loss'lara overfit var mı diye bakarak) kendiniz belirleyeceksiniz. Batch size'ı 16 seçebilirsiniz."
   ]
  },
  {
   "cell_type": "markdown",
   "metadata": {
    "canvas": {
     "comments": [],
     "componentType": "CodeCell",
     "copiedOriginId": null,
     "diskcache": false,
     "headerColor": "none",
     "id": "9faf3159-9915-4aae-95f3-2e438de43be0",
     "isComponent": false,
     "name": "",
     "parents": []
    },
    "id": "DHhajJWfA5NW"
   },
   "source": [
    "* 5.1. Bölüm"
   ]
  },
  {
   "cell_type": "code",
   "execution_count": 32,
   "metadata": {
    "canvas": {
     "comments": [],
     "componentType": "CodeCell",
     "copiedOriginId": null,
     "diskcache": false,
     "headerColor": "none",
     "id": "65ab79b3-a89e-4e67-abbe-090cb5932fc9",
     "isComponent": false,
     "name": "",
     "parents": []
    },
    "id": "LvhWgSmLAfj6"
   },
   "outputs": [],
   "source": [
    "class MLP(nn.Module):\n",
    "    def __init__(self, input_size, hidden_size1, hidden_size2, output_size):\n",
    "        super(MLP, self).__init__()\n",
    "        self.input = nn.Linear(input_size, hidden_size1)\n",
    "        self.relu1 = nn.ReLU()\n",
    "        self.hidden = nn.Linear(hidden_size1, hidden_size2)\n",
    "        self.relu2 = nn.ReLU()\n",
    "        self.output = nn.Linear(hidden_size2, output_size)\n",
    "        self.sigmoid = nn.Sigmoid()\n",
    "\n",
    "    def forward(self, x):\n",
    "        out = self.input(x)\n",
    "        out = self.relu1(out)\n",
    "        out = self.hidden(out)\n",
    "        out = self.relu2(out)\n",
    "        out = self.output(out)\n",
    "        out = self.sigmoid(out)\n",
    "        return out"
   ]
  },
  {
   "cell_type": "markdown",
   "metadata": {
    "canvas": {
     "comments": [],
     "componentType": "CodeCell",
     "copiedOriginId": null,
     "diskcache": false,
     "headerColor": "none",
     "id": "fb228957-4773-48f5-ac0c-8e0c1cf6b832",
     "isComponent": false,
     "name": "",
     "parents": []
    },
    "id": "-ABWEvv5BUVc"
   },
   "source": [
    "Modelin eğitilmesi için gerekli bilgilerin tanıtılması"
   ]
  },
  {
   "cell_type": "code",
   "execution_count": 19,
   "metadata": {
    "canvas": {
     "comments": [],
     "componentType": "CodeCell",
     "copiedOriginId": null,
     "diskcache": false,
     "headerColor": "none",
     "id": "22af77d8-307c-4a28-a5e1-78b5562e5d4c",
     "isComponent": false,
     "name": "",
     "parents": []
    },
    "colab": {
     "base_uri": "https://localhost:8080/"
    },
    "id": "XImHUmQFBdYs",
    "outputId": "3ffe1482-2a90-43a8-ae7c-63e03828fc27"
   },
   "outputs": [
    {
     "data": {
      "text/plain": [
       "torch.Size([1252, 13])"
      ]
     },
     "execution_count": 19,
     "metadata": {},
     "output_type": "execute_result"
    }
   ],
   "source": [
    "x_train.shape"
   ]
  },
  {
   "cell_type": "code",
   "execution_count": 33,
   "metadata": {
    "canvas": {
     "comments": [],
     "componentType": "CodeCell",
     "copiedOriginId": null,
     "diskcache": false,
     "headerColor": "none",
     "id": "8fb8cae2-53d4-4381-bfda-b847c03e35bd",
     "isComponent": false,
     "name": "",
     "parents": []
    },
    "id": "x6XmoauLBTW_"
   },
   "outputs": [],
   "source": [
    "input_size = x_train.shape[1] # 13 değer verileceği için shape[1] aldık\n",
    "hidden_size1 = 100 # Açıklama gereği 100 nöron eklenecekti\n",
    "hidden_size2 = 50 # açıklama gereği 50 nöron eklenecekti.\n",
    "output_size = 1 # binary classification yaptığımızdan 1 nöron çıktısı elde edeceğiz."
   ]
  },
  {
   "cell_type": "code",
   "execution_count": 34,
   "metadata": {
    "canvas": {
     "comments": [],
     "componentType": "CodeCell",
     "copiedOriginId": null,
     "diskcache": false,
     "headerColor": "none",
     "id": "15046ce5-983f-460b-858a-58d4ca7b7b1d",
     "isComponent": false,
     "name": "",
     "parents": []
    },
    "id": "QAHDqauSBvst"
   },
   "outputs": [],
   "source": [
    "model = MLP(input_size, hidden_size1, hidden_size2, output_size)"
   ]
  },
  {
   "cell_type": "code",
   "execution_count": 22,
   "metadata": {
    "canvas": {
     "comments": [],
     "componentType": "CodeCell",
     "copiedOriginId": null,
     "diskcache": false,
     "headerColor": "none",
     "id": "27dc688b-7744-429e-8740-7457aef064c8",
     "isComponent": false,
     "name": "",
     "parents": []
    },
    "id": "UF7SBO0ZCK5i"
   },
   "outputs": [],
   "source": [
    "import torch.optim as optim\n",
    "criterion = nn.BCELoss() # BinaryCrossEntropyLoss\n",
    "optimizer = optim.SGD(model.parameters(), lr=0.01) \n",
    "batch_size = 32\n",
    "num_epochs = 2000\n",
    "patience = 2000"
   ]
  },
  {
   "cell_type": "code",
   "execution_count": 23,
   "metadata": {
    "canvas": {
     "comments": [],
     "componentType": "CodeCell",
     "copiedOriginId": null,
     "diskcache": false,
     "headerColor": "none",
     "id": "cf091305-0cd9-47e4-a4aa-6ea58b618650",
     "isComponent": false,
     "name": "",
     "parents": []
    },
    "id": "68GJLp_8CcCX"
   },
   "outputs": [],
   "source": [
    "train_loss_list = []\n",
    "val_loss_list = []\n",
    "best_val_loss=None\n",
    "patience_counter=0"
   ]
  },
  {
   "cell_type": "markdown",
   "metadata": {
    "canvas": {
     "comments": [],
     "componentType": "CodeCell",
     "copiedOriginId": null,
     "diskcache": false,
     "headerColor": "none",
     "id": "6f2c18ce-8188-408c-8f6d-b00a07f8f6c9",
     "isComponent": false,
     "name": "",
     "parents": []
    },
    "id": "iVywQ3dSClKz"
   },
   "source": [
    "Modelin eğitim süreci\n",
    "\n",
    "\n",
    "* 2 farklı şekilde eğitim yapılabilir. Burada for loop kullanılarak batch sayısı kadarlık veriler alınacaktır.\n",
    "\n",
    "* 2. yaklaşımda ise DataLoader objesi kullanılarak oluşturulabilir. Bu adım da gösterilecektir."
   ]
  },
  {
   "cell_type": "code",
   "execution_count": null,
   "metadata": {
    "canvas": {
     "comments": [],
     "componentType": "CodeCell",
     "copiedOriginId": null,
     "diskcache": false,
     "headerColor": "none",
     "id": "bb8e8f6a-9e70-4bb5-b553-20739ec8e924",
     "isComponent": false,
     "name": "",
     "parents": []
    },
    "id": "SgEBMwWxCj_m"
   },
   "outputs": [],
   "source": [
    "import time\n",
    "start = time.time()\n",
    "seed_value = 190401037\n",
    "torch.manual_seed(seed_value)\n",
    "\n",
    "for epoch in range(num_epochs):\n",
    "    epoch_train_loss = []\n",
    "    for i in range(0, len(x_train), batch_size):\n",
    "        inputs = x_train[i:i+batch_size]\n",
    "        labels = y_train[i:i+batch_size]\n",
    "\n",
    "        optimizer.zero_grad()\n",
    "\n",
    "        outputs = model(inputs)\n",
    "\n",
    "        loss = criterion(outputs, labels)\n",
    "        loss.backward()\n",
    "\n",
    "        optimizer.step()\n",
    "\n",
    "        epoch_train_loss.append(loss.item())\n",
    "\n",
    "    train_loss = np.mean(epoch_train_loss)\n",
    "\n",
    "    train_loss_list.append(train_loss)\n",
    "\n",
    "    val_loss = 0.0\n",
    "\n",
    "    with torch.no_grad():\n",
    "        model.eval()\n",
    "        for val_x, val_y in zip(x_valid,y_valid):\n",
    "            outs = model(val_x)\n",
    "            loss = criterion(outs, val_y)\n",
    "            val_loss += loss.item()\n",
    "\n",
    "    model.train()\n",
    "\n",
    "  \n",
    "    val_loss /= x_valid.shape[0]\n",
    "\n",
    "    print(\"Epoch\", epoch, \"Training loss\", train_loss,\"Validation Loss :\",val_loss)\n",
    "\n",
    "    val_loss_list.append(val_loss)\n",
    "\n",
    "    val_score = val_loss\n",
    "    \n",
    "    if best_val_loss is None:\n",
    "        best_val_loss = val_score\n",
    "        torch.save(model.state_dict(), \"checkpoint.pt\")\n",
    "    elif best_val_loss < val_score: \n",
    "        patience_counter += 1\n",
    "        print(\"Earlystopping Patience Counter:\",patience_counter)\n",
    "        if patience_counter == patience:\n",
    "            break\n",
    "    else:\n",
    "        best_val_loss = val_score\n",
    "        torch.save(model.state_dict(), \"checkpoint.pt\") \n",
    "        patience_counter = 0\n",
    "plt.plot(train_loss_list, label=\"Training loss\")\n",
    "plt.plot(val_loss_list, label=\"Validation loss\")\n",
    "plt.xlabel(\"Epoch\")\n",
    "plt.ylabel(\"Loss\")\n",
    "plt.legend()\n",
    "plt.show()\n",
    "\n",
    "\n",
    "print('Finished Training')\n",
    "model = MLP(input_size, hidden_size1, hidden_size2, output_size)\n",
    "model.load_state_dict(torch.load('checkpoint.pt'))\n",
    "model.eval()\n",
    "predicts =[]\n",
    "real_labels = list()\n",
    "with torch.no_grad():\n",
    "    for inputs,label in zip(x_test,y_test):\n",
    "        outputs = model(inputs)\n",
    "        predict = round(float(outputs.data))\n",
    "        predicts.append(predict)\n",
    "        real_labels.extend(label.tolist())\n",
    "from sklearn.metrics import accuracy_score,f1_score,recall_score, precision_score\n",
    "print(\"Accuracy score of this model: {}\".format(accuracy_score(real_labels,predicts)))\n",
    "print(\"F1 score of this model: {}\".format(f1_score(real_labels,predicts)))\n",
    "print(\"Recall score of this model: {}\".format(recall_score(real_labels,predicts)))\n",
    "print(\"Precision score of this model: {}\".format(precision_score(real_labels,predicts)))\n",
    "end = time.time()\n",
    "print(\"Total time is {}\".format(end-start))"
   ]
  },
  {
   "cell_type": "markdown",
   "metadata": {
    "canvas": {
     "comments": [],
     "componentType": "CodeCell",
     "copiedOriginId": null,
     "diskcache": false,
     "headerColor": "none",
     "id": "09282e8a-d7f7-43c5-a196-a4a5c95b9a7d",
     "isComponent": false,
     "name": "",
     "parents": []
    },
    "id": "Lgs4R-Jrzt7m"
   },
   "source": [
    "Overfit durumu için parametrelerle oynanması"
   ]
  },
  {
   "cell_type": "code",
   "execution_count": 37,
   "metadata": {
    "canvas": {
     "comments": [],
     "componentType": "CodeCell",
     "copiedOriginId": null,
     "diskcache": false,
     "headerColor": "none",
     "id": "cce7fdca-ca81-42c1-a695-7a433e6515b4",
     "isComponent": false,
     "name": "",
     "parents": []
    },
    "colab": {
     "base_uri": "https://localhost:8080/",
     "height": 1000
    },
    "collapsed": true,
    "id": "LBNj-wvHImWC",
    "jupyter": {
     "outputs_hidden": true
    },
    "outputId": "ea81dd9d-a579-48c9-8a3b-eeb34d389908",
    "tags": []
   },
   "outputs": [
    {
     "name": "stdout",
     "output_type": "stream",
     "text": [
      "Epoch 0 Training loss 0.6089243177211465 Validation Loss : 0.37535158868962126\n",
      "Epoch 1 Training loss 0.4591689804426064 Validation Loss : 0.29807762916526215\n",
      "Epoch 2 Training loss 0.36274292689269055 Validation Loss : 0.31695520633869945\n",
      "Earlystopping Patience Counter: 1\n",
      "Epoch 3 Training loss 0.3277418027883366 Validation Loss : 0.3759505895748595\n",
      "Earlystopping Patience Counter: 2\n",
      "Epoch 4 Training loss 0.30508808420447353 Validation Loss : 0.3064798321865123\n",
      "Earlystopping Patience Counter: 3\n",
      "Epoch 5 Training loss 0.2755140078829798 Validation Loss : 0.32688852916393235\n",
      "Earlystopping Patience Counter: 4\n",
      "Epoch 6 Training loss 0.262291331721928 Validation Loss : 0.43660994982859463\n",
      "Earlystopping Patience Counter: 5\n",
      "Epoch 7 Training loss 0.2435151637676081 Validation Loss : 0.3641872677953691\n",
      "Earlystopping Patience Counter: 6\n",
      "Epoch 8 Training loss 0.23115599832159822 Validation Loss : 0.1858192884860149\n",
      "Epoch 9 Training loss 0.20633737590059828 Validation Loss : 0.4140130294937102\n",
      "Earlystopping Patience Counter: 1\n",
      "Epoch 10 Training loss 0.2114880144765103 Validation Loss : 0.18022699577015286\n",
      "Epoch 11 Training loss 0.19778316386085448 Validation Loss : 0.1591531992364844\n",
      "Epoch 12 Training loss 0.1757991518324191 Validation Loss : 0.16603245019976184\n",
      "Earlystopping Patience Counter: 1\n",
      "Epoch 13 Training loss 0.17908173212909284 Validation Loss : 0.14537924806885597\n",
      "Epoch 14 Training loss 0.1631763097083423 Validation Loss : 0.2818675311394076\n",
      "Earlystopping Patience Counter: 1\n",
      "Epoch 15 Training loss 0.16909332861223664 Validation Loss : 0.1500488102615462\n",
      "Earlystopping Patience Counter: 2\n",
      "Epoch 16 Training loss 0.16532424904356488 Validation Loss : 0.1504609465619616\n",
      "Earlystopping Patience Counter: 3\n",
      "Epoch 17 Training loss 0.14492293112321938 Validation Loss : 0.1755647430673879\n",
      "Earlystopping Patience Counter: 4\n",
      "Epoch 18 Training loss 0.15042750364528812 Validation Loss : 0.1571382090967637\n",
      "Earlystopping Patience Counter: 5\n",
      "Epoch 19 Training loss 0.14867862361128806 Validation Loss : 0.1549978399367792\n",
      "Earlystopping Patience Counter: 6\n",
      "Epoch 20 Training loss 0.11702365182711841 Validation Loss : 0.1621976629069171\n",
      "Earlystopping Patience Counter: 7\n",
      "Epoch 21 Training loss 0.1429415995522063 Validation Loss : 0.1781446047154491\n",
      "Earlystopping Patience Counter: 8\n",
      "Epoch 22 Training loss 0.11340506442059867 Validation Loss : 0.23802326294824996\n",
      "Earlystopping Patience Counter: 9\n",
      "Epoch 23 Training loss 0.1276689103497943 Validation Loss : 0.1412568465110933\n",
      "Epoch 24 Training loss 0.1095056912724968 Validation Loss : 0.16021821976086129\n",
      "Earlystopping Patience Counter: 1\n",
      "Epoch 25 Training loss 0.1287265370148376 Validation Loss : 0.1844938456803038\n",
      "Earlystopping Patience Counter: 2\n",
      "Epoch 26 Training loss 0.11033783305528756 Validation Loss : 0.11806420979823881\n",
      "Epoch 27 Training loss 0.10204210068580412 Validation Loss : 0.21293646950932207\n",
      "Earlystopping Patience Counter: 1\n",
      "Epoch 28 Training loss 0.11316576230226369 Validation Loss : 0.16888569111820256\n",
      "Earlystopping Patience Counter: 2\n",
      "Epoch 29 Training loss 0.10031769411510091 Validation Loss : 0.18791001667761026\n",
      "Earlystopping Patience Counter: 3\n",
      "Epoch 30 Training loss 0.1864909857298138 Validation Loss : 0.2246212459346222\n",
      "Earlystopping Patience Counter: 4\n",
      "Epoch 31 Training loss 0.09516323818003455 Validation Loss : 0.1903614188964811\n",
      "Earlystopping Patience Counter: 5\n",
      "Epoch 32 Training loss 0.09000757541551384 Validation Loss : 0.19249132089183418\n",
      "Earlystopping Patience Counter: 6\n",
      "Epoch 33 Training loss 0.11748640167173413 Validation Loss : 0.1703232921064812\n",
      "Earlystopping Patience Counter: 7\n",
      "Epoch 34 Training loss 0.08855252719332918 Validation Loss : 0.14685805822159842\n",
      "Earlystopping Patience Counter: 8\n",
      "Epoch 35 Training loss 0.08566363744232389 Validation Loss : 0.2079965020055943\n",
      "Earlystopping Patience Counter: 9\n",
      "Epoch 36 Training loss 0.12900097825127915 Validation Loss : 0.138528258396911\n",
      "Earlystopping Patience Counter: 10\n",
      "Epoch 37 Training loss 0.10333869036848331 Validation Loss : 0.14296819356482107\n",
      "Earlystopping Patience Counter: 11\n",
      "Epoch 38 Training loss 0.07427539269842652 Validation Loss : 0.23666622303026008\n",
      "Earlystopping Patience Counter: 12\n",
      "Epoch 39 Training loss 0.0719558415337114 Validation Loss : 0.15232498826404536\n",
      "Earlystopping Patience Counter: 13\n",
      "Epoch 40 Training loss 0.18387865209759843 Validation Loss : 0.21145416265972097\n",
      "Earlystopping Patience Counter: 14\n",
      "Epoch 41 Training loss 0.10131724452507358 Validation Loss : 0.2654165814208771\n",
      "Earlystopping Patience Counter: 15\n",
      "Epoch 42 Training loss 0.11584245019871378 Validation Loss : 0.1758369120205542\n",
      "Earlystopping Patience Counter: 16\n",
      "Epoch 43 Training loss 0.08112473510901187 Validation Loss : 0.20875170015542976\n",
      "Earlystopping Patience Counter: 17\n",
      "Epoch 44 Training loss 0.06967888757542626 Validation Loss : 0.2599659772599547\n",
      "Earlystopping Patience Counter: 18\n",
      "Epoch 45 Training loss 0.09566370685926909 Validation Loss : 0.1964826320982932\n",
      "Earlystopping Patience Counter: 19\n",
      "Epoch 46 Training loss 0.07881963842337933 Validation Loss : 0.18822363954064886\n",
      "Earlystopping Patience Counter: 20\n",
      "Epoch 47 Training loss 0.07721440795540382 Validation Loss : 0.17890871819733623\n",
      "Earlystopping Patience Counter: 21\n",
      "Epoch 48 Training loss 0.09939830072307537 Validation Loss : 0.4558557528386941\n",
      "Earlystopping Patience Counter: 22\n",
      "Epoch 49 Training loss 0.07134702578063597 Validation Loss : 0.16091824242934677\n",
      "Earlystopping Patience Counter: 23\n",
      "Epoch 50 Training loss 0.07672459704065013 Validation Loss : 0.17323509349107796\n",
      "Earlystopping Patience Counter: 24\n",
      "Epoch 51 Training loss 0.0777625523975793 Validation Loss : 0.1581223120037371\n",
      "Earlystopping Patience Counter: 25\n",
      "Epoch 52 Training loss 0.06918805509882721 Validation Loss : 0.16377590208836057\n",
      "Earlystopping Patience Counter: 26\n",
      "Epoch 53 Training loss 0.08630501508900543 Validation Loss : 0.19583605611044547\n",
      "Earlystopping Patience Counter: 27\n",
      "Epoch 54 Training loss 0.06028488808820344 Validation Loss : 0.16055391575305558\n",
      "Earlystopping Patience Counter: 28\n",
      "Epoch 55 Training loss 0.06721510830982903 Validation Loss : 0.12371352077947345\n",
      "Earlystopping Patience Counter: 29\n",
      "Epoch 56 Training loss 0.0551409253181501 Validation Loss : 0.15651306879357904\n",
      "Earlystopping Patience Counter: 30\n",
      "Epoch 57 Training loss 0.0629962419863717 Validation Loss : 0.2024068335633973\n",
      "Earlystopping Patience Counter: 31\n",
      "Epoch 58 Training loss 0.06266911092224996 Validation Loss : 0.19824428251710915\n",
      "Earlystopping Patience Counter: 32\n",
      "Epoch 59 Training loss 0.0631583739381929 Validation Loss : 0.13780269803448839\n",
      "Earlystopping Patience Counter: 33\n",
      "Epoch 60 Training loss 0.05365534116009555 Validation Loss : 0.21077900918334194\n",
      "Earlystopping Patience Counter: 34\n",
      "Epoch 61 Training loss 0.04934351821733311 Validation Loss : 0.15960596512051672\n",
      "Earlystopping Patience Counter: 35\n",
      "Epoch 62 Training loss 0.07344410886563266 Validation Loss : 0.24150456482880103\n",
      "Earlystopping Patience Counter: 36\n",
      "Epoch 63 Training loss 0.16613399685163696 Validation Loss : 0.2806054978484023\n",
      "Earlystopping Patience Counter: 37\n",
      "Epoch 64 Training loss 0.12423547281230803 Validation Loss : 0.2943593790190226\n",
      "Earlystopping Patience Counter: 38\n",
      "Epoch 65 Training loss 0.08660926530654363 Validation Loss : 0.13981755321227646\n",
      "Earlystopping Patience Counter: 39\n",
      "Epoch 66 Training loss 0.05691652246522411 Validation Loss : 0.1681503202278505\n",
      "Earlystopping Patience Counter: 40\n",
      "Epoch 67 Training loss 0.037541064135449366 Validation Loss : 0.26046121029366887\n",
      "Earlystopping Patience Counter: 41\n",
      "Epoch 68 Training loss 0.0468329038276022 Validation Loss : 0.5768159379399291\n",
      "Earlystopping Patience Counter: 42\n",
      "Epoch 69 Training loss 0.042190941101729856 Validation Loss : 0.31879201180047495\n",
      "Earlystopping Patience Counter: 43\n",
      "Epoch 70 Training loss 0.031758501175694495 Validation Loss : 0.2794401233621986\n",
      "Earlystopping Patience Counter: 44\n",
      "Epoch 71 Training loss 0.07138058344438543 Validation Loss : 0.2147536439096482\n",
      "Earlystopping Patience Counter: 45\n",
      "Epoch 72 Training loss 0.18706379844997892 Validation Loss : 0.2049547986795595\n",
      "Earlystopping Patience Counter: 46\n",
      "Epoch 73 Training loss 0.056251105136487276 Validation Loss : 0.16150947688342174\n",
      "Earlystopping Patience Counter: 47\n",
      "Epoch 74 Training loss 0.03507144520732381 Validation Loss : 0.21844829780495625\n",
      "Earlystopping Patience Counter: 48\n",
      "Epoch 75 Training loss 0.05942213289147793 Validation Loss : 0.5389569458531397\n",
      "Earlystopping Patience Counter: 49\n",
      "Epoch 76 Training loss 0.12227221588102781 Validation Loss : 0.17565839015308976\n",
      "Earlystopping Patience Counter: 50\n",
      "Epoch 77 Training loss 0.0699076822094641 Validation Loss : 0.18266259016020006\n",
      "Earlystopping Patience Counter: 51\n",
      "Epoch 78 Training loss 0.03781807951806941 Validation Loss : 0.4896209111336085\n",
      "Earlystopping Patience Counter: 52\n",
      "Epoch 79 Training loss 0.027773178164400704 Validation Loss : 0.2448360886929522\n",
      "Earlystopping Patience Counter: 53\n",
      "Epoch 80 Training loss 0.04795720860923159 Validation Loss : 0.29728560447797653\n",
      "Earlystopping Patience Counter: 54\n",
      "Epoch 81 Training loss 0.04806046989188678 Validation Loss : 0.21758387215216834\n",
      "Earlystopping Patience Counter: 55\n",
      "Epoch 82 Training loss 0.05485375381619589 Validation Loss : 0.27930961671725474\n",
      "Earlystopping Patience Counter: 56\n",
      "Epoch 83 Training loss 0.03573004941690834 Validation Loss : 0.5500245099701194\n",
      "Earlystopping Patience Counter: 57\n",
      "Epoch 84 Training loss 0.039531774087734235 Validation Loss : 0.5461857421845975\n",
      "Earlystopping Patience Counter: 58\n",
      "Epoch 85 Training loss 0.02292959688303702 Validation Loss : 0.2529542595808937\n",
      "Earlystopping Patience Counter: 59\n",
      "Epoch 86 Training loss 0.013869278248365988 Validation Loss : 0.6130732755745664\n",
      "Earlystopping Patience Counter: 60\n",
      "Epoch 87 Training loss 0.06609205156692154 Validation Loss : 0.27613275060206144\n",
      "Earlystopping Patience Counter: 61\n",
      "Epoch 88 Training loss 0.032525358299841406 Validation Loss : 0.6602111698044663\n",
      "Earlystopping Patience Counter: 62\n",
      "Epoch 89 Training loss 0.047387750398370905 Validation Loss : 0.5361286549971368\n",
      "Earlystopping Patience Counter: 63\n",
      "Epoch 90 Training loss 0.06617619049520307 Validation Loss : 0.46100834962733606\n",
      "Earlystopping Patience Counter: 64\n",
      "Epoch 91 Training loss 0.03406553519542318 Validation Loss : 0.2168092066299636\n",
      "Earlystopping Patience Counter: 65\n",
      "Epoch 92 Training loss 0.019185633728869864 Validation Loss : 0.31034647441101815\n",
      "Earlystopping Patience Counter: 66\n",
      "Epoch 93 Training loss 0.023682491822983685 Validation Loss : 0.590692861533169\n",
      "Earlystopping Patience Counter: 67\n",
      "Epoch 94 Training loss 0.0433918754780474 Validation Loss : 0.1986058769969394\n",
      "Earlystopping Patience Counter: 68\n",
      "Epoch 95 Training loss 0.1012682956530429 Validation Loss : 0.1985104963981802\n",
      "Earlystopping Patience Counter: 69\n",
      "Epoch 96 Training loss 0.014052136134875826 Validation Loss : 0.5285768122870832\n",
      "Earlystopping Patience Counter: 70\n",
      "Epoch 97 Training loss 0.011039780991226766 Validation Loss : 0.6098639539065979\n",
      "Earlystopping Patience Counter: 71\n",
      "Epoch 98 Training loss 0.008695028148254133 Validation Loss : 0.2973952609063206\n",
      "Earlystopping Patience Counter: 72\n",
      "Epoch 99 Training loss 0.008997009075424073 Validation Loss : 0.48507079714926393\n",
      "Earlystopping Patience Counter: 73\n",
      "Epoch 100 Training loss 0.06088952059660609 Validation Loss : 0.5926114561428298\n",
      "Earlystopping Patience Counter: 74\n",
      "Epoch 101 Training loss 0.08582474600554997 Validation Loss : 0.23770019048343546\n",
      "Earlystopping Patience Counter: 75\n",
      "Epoch 102 Training loss 0.042792890626395734 Validation Loss : 0.22574916486057758\n",
      "Earlystopping Patience Counter: 76\n",
      "Epoch 103 Training loss 0.01627457472215761 Validation Loss : 0.2369727033584803\n",
      "Earlystopping Patience Counter: 77\n",
      "Epoch 104 Training loss 0.015351443344431488 Validation Loss : 0.27308186612790464\n",
      "Earlystopping Patience Counter: 78\n",
      "Epoch 105 Training loss 0.009905387793905275 Validation Loss : 0.7893348786539803\n",
      "Earlystopping Patience Counter: 79\n",
      "Epoch 106 Training loss 0.006955306997141086 Validation Loss : 0.5562406669417189\n",
      "Earlystopping Patience Counter: 80\n",
      "Epoch 107 Training loss 0.006944711192096096 Validation Loss : 0.5391034613807749\n",
      "Earlystopping Patience Counter: 81\n",
      "Epoch 108 Training loss 0.030693687499860827 Validation Loss : 0.6070353026569189\n",
      "Earlystopping Patience Counter: 82\n",
      "Epoch 109 Training loss 0.028395075208570326 Validation Loss : 0.2390319934957961\n",
      "Earlystopping Patience Counter: 83\n",
      "Epoch 110 Training loss 0.00930903776126398 Validation Loss : 0.5486452674064543\n",
      "Earlystopping Patience Counter: 84\n",
      "Epoch 111 Training loss 0.0053534439499202035 Validation Loss : 0.5294018447365014\n",
      "Earlystopping Patience Counter: 85\n",
      "Epoch 112 Training loss 0.004338986053975199 Validation Loss : 0.5338313902025569\n",
      "Earlystopping Patience Counter: 86\n",
      "Epoch 113 Training loss 0.004394161349166215 Validation Loss : 0.5305842286463901\n",
      "Earlystopping Patience Counter: 87\n",
      "Epoch 114 Training loss 0.00458024983272033 Validation Loss : 0.5413146163472627\n",
      "Earlystopping Patience Counter: 88\n",
      "Epoch 115 Training loss 0.004141767865528533 Validation Loss : 0.5370298018399438\n",
      "Earlystopping Patience Counter: 89\n",
      "Epoch 116 Training loss 0.003866396119235791 Validation Loss : 0.5381398111601504\n",
      "Earlystopping Patience Counter: 90\n",
      "Epoch 117 Training loss 0.0037285639033204122 Validation Loss : 0.5374671538714866\n",
      "Earlystopping Patience Counter: 91\n",
      "Epoch 118 Training loss 0.003568602376935003 Validation Loss : 0.537842702569293\n",
      "Earlystopping Patience Counter: 92\n",
      "Epoch 119 Training loss 0.0035001500062555027 Validation Loss : 0.5291089344981602\n",
      "Earlystopping Patience Counter: 93\n",
      "Epoch 120 Training loss 0.0036431246160541775 Validation Loss : 0.5309392043273748\n",
      "Earlystopping Patience Counter: 94\n",
      "Epoch 121 Training loss 0.0035557475937022195 Validation Loss : 0.5488312132935442\n",
      "Earlystopping Patience Counter: 95\n",
      "Epoch 122 Training loss 0.0034167259037786355 Validation Loss : 0.5486712607844146\n",
      "Earlystopping Patience Counter: 96\n",
      "Epoch 123 Training loss 0.0032109185011808886 Validation Loss : 0.547870775905172\n",
      "Earlystopping Patience Counter: 97\n",
      "Epoch 124 Training loss 0.0034174749063277006 Validation Loss : 0.5473816826211746\n",
      "Earlystopping Patience Counter: 98\n",
      "Epoch 125 Training loss 0.0027239985727108553 Validation Loss : 0.5490853211177898\n",
      "Earlystopping Patience Counter: 99\n",
      "Epoch 126 Training loss 0.0030351808778065663 Validation Loss : 0.556839714831219\n",
      "Earlystopping Patience Counter: 100\n",
      "Epoch 127 Training loss 0.0022913756168120754 Validation Loss : 0.5598085247068166\n",
      "Earlystopping Patience Counter: 101\n",
      "Epoch 128 Training loss 0.001832638662339489 Validation Loss : 0.5638887277950648\n",
      "Earlystopping Patience Counter: 102\n",
      "Epoch 129 Training loss 0.0016692363116952024 Validation Loss : 0.5708699858062156\n",
      "Earlystopping Patience Counter: 103\n",
      "Epoch 130 Training loss 0.0014753220121616806 Validation Loss : 0.5893940031880549\n",
      "Earlystopping Patience Counter: 104\n",
      "Epoch 131 Training loss 0.001728677853213246 Validation Loss : 0.5863101798238829\n",
      "Earlystopping Patience Counter: 105\n",
      "Epoch 132 Training loss 0.0010918378849718335 Validation Loss : 0.5883183802392808\n",
      "Earlystopping Patience Counter: 106\n",
      "Epoch 133 Training loss 0.0013076108239637385 Validation Loss : 0.8449052585964245\n",
      "Earlystopping Patience Counter: 107\n",
      "Epoch 134 Training loss 0.0019254613543249223 Validation Loss : 0.8447219232782753\n",
      "Earlystopping Patience Counter: 108\n",
      "Epoch 135 Training loss 0.0011811418665439728 Validation Loss : 0.8467562519032155\n",
      "Earlystopping Patience Counter: 109\n",
      "Epoch 136 Training loss 0.0008216508203498617 Validation Loss : 0.5879877120841193\n",
      "Earlystopping Patience Counter: 110\n",
      "Epoch 137 Training loss 0.0008566733316664471 Validation Loss : 0.5840276474192565\n",
      "Earlystopping Patience Counter: 111\n",
      "Epoch 138 Training loss 0.0008570878527000739 Validation Loss : 0.8564177769906262\n",
      "Earlystopping Patience Counter: 112\n",
      "Epoch 139 Training loss 0.0006589238876454916 Validation Loss : 0.8564023007733248\n",
      "Earlystopping Patience Counter: 113\n",
      "Epoch 140 Training loss 0.0006087713552598084 Validation Loss : 0.8565984253028389\n",
      "Earlystopping Patience Counter: 114\n",
      "Epoch 141 Training loss 0.0006399353659246183 Validation Loss : 0.8643211669578948\n",
      "Earlystopping Patience Counter: 115\n",
      "Epoch 142 Training loss 0.0005447232136838284 Validation Loss : 0.8642225412356533\n",
      "Earlystopping Patience Counter: 116\n",
      "Epoch 143 Training loss 0.0005123494983903795 Validation Loss : 0.8639577314224584\n",
      "Earlystopping Patience Counter: 117\n",
      "Epoch 144 Training loss 0.0005053396767206631 Validation Loss : 0.8693387501072164\n",
      "Earlystopping Patience Counter: 118\n",
      "Epoch 145 Training loss 0.0005135752720117629 Validation Loss : 0.8684907542181249\n",
      "Earlystopping Patience Counter: 119\n",
      "Epoch 146 Training loss 0.00045106481812616164 Validation Loss : 0.8674472534178707\n",
      "Earlystopping Patience Counter: 120\n",
      "Epoch 147 Training loss 0.0004252068410170998 Validation Loss : 0.86653102239779\n",
      "Earlystopping Patience Counter: 121\n",
      "Epoch 148 Training loss 0.00040665037834045867 Validation Loss : 0.8666188209671998\n",
      "Earlystopping Patience Counter: 122\n",
      "Epoch 149 Training loss 0.0003874192839317827 Validation Loss : 0.8664432163865977\n",
      "Earlystopping Patience Counter: 123\n",
      "Epoch 150 Training loss 0.00038386206783500704 Validation Loss : 0.8729166558986667\n",
      "Earlystopping Patience Counter: 124\n",
      "Epoch 151 Training loss 0.0003851283090880779 Validation Loss : 0.8713600681324101\n",
      "Earlystopping Patience Counter: 125\n",
      "Epoch 152 Training loss 0.0003588700551131777 Validation Loss : 0.8739216167205971\n",
      "Earlystopping Patience Counter: 126\n",
      "Epoch 153 Training loss 0.0003498520519881857 Validation Loss : 0.8729197049864451\n",
      "Earlystopping Patience Counter: 127\n",
      "Epoch 154 Training loss 0.0003300903228774019 Validation Loss : 0.8726536359417387\n",
      "Earlystopping Patience Counter: 128\n",
      "Epoch 155 Training loss 0.00031608909791002614 Validation Loss : 0.8722041981508684\n",
      "Earlystopping Patience Counter: 129\n",
      "Epoch 156 Training loss 0.000324004222513102 Validation Loss : 0.8785696642480524\n",
      "Earlystopping Patience Counter: 130\n",
      "Epoch 157 Training loss 0.0003007268177251926 Validation Loss : 0.8773062999360102\n",
      "Earlystopping Patience Counter: 131\n",
      "Epoch 158 Training loss 0.0002888455835683701 Validation Loss : 0.876934758092826\n",
      "Earlystopping Patience Counter: 132\n",
      "Epoch 159 Training loss 0.0002790537266804035 Validation Loss : 0.8766238559350752\n",
      "Earlystopping Patience Counter: 133\n",
      "Epoch 160 Training loss 0.00027593675726801344 Validation Loss : 0.8811224103682281\n",
      "Earlystopping Patience Counter: 134\n",
      "Epoch 161 Training loss 0.0002771891348220925 Validation Loss : 0.8803937436801895\n",
      "Earlystopping Patience Counter: 135\n",
      "Epoch 162 Training loss 0.0002618419417523983 Validation Loss : 0.8791668141166256\n",
      "Earlystopping Patience Counter: 136\n",
      "Epoch 163 Training loss 0.0002525508368726325 Validation Loss : 0.8785466031606799\n",
      "Earlystopping Patience Counter: 137\n",
      "Epoch 164 Training loss 0.00024406852750210467 Validation Loss : 0.8779436881675149\n",
      "Earlystopping Patience Counter: 138\n",
      "Epoch 165 Training loss 0.00023753278047507754 Validation Loss : 0.8776574208695449\n",
      "Earlystopping Patience Counter: 139\n",
      "Epoch 166 Training loss 0.00023221754740254381 Validation Loss : 0.8821266313005232\n",
      "Earlystopping Patience Counter: 140\n",
      "Epoch 167 Training loss 0.00023475208396217715 Validation Loss : 0.8808428572092191\n",
      "Earlystopping Patience Counter: 141\n",
      "Epoch 168 Training loss 0.00022496682806022363 Validation Loss : 0.8800855342784741\n",
      "Earlystopping Patience Counter: 142\n",
      "Epoch 169 Training loss 0.00021756452025536524 Validation Loss : 0.8793172440406395\n",
      "Earlystopping Patience Counter: 143\n",
      "Epoch 170 Training loss 0.0002119761607568424 Validation Loss : 0.8790270559983169\n",
      "Earlystopping Patience Counter: 144\n",
      "Epoch 171 Training loss 0.0002062353390046073 Validation Loss : 0.8787130772290721\n",
      "Earlystopping Patience Counter: 145\n",
      "Epoch 172 Training loss 0.0002021434892147424 Validation Loss : 0.8803640928294241\n",
      "Earlystopping Patience Counter: 146\n",
      "Epoch 173 Training loss 0.00020780663987020993 Validation Loss : 0.8850805078399231\n",
      "Earlystopping Patience Counter: 147\n",
      "Epoch 174 Training loss 0.00019759712539619718 Validation Loss : 0.8843922352370762\n",
      "Earlystopping Patience Counter: 148\n",
      "Epoch 175 Training loss 0.0001916664559159927 Validation Loss : 0.8837820813446557\n",
      "Earlystopping Patience Counter: 149\n",
      "Epoch 176 Training loss 0.00018698134079679513 Validation Loss : 0.8835459858073821\n",
      "Earlystopping Patience Counter: 150\n",
      "Epoch 177 Training loss 0.00018620180600194836 Validation Loss : 0.8873171111716252\n",
      "Earlystopping Patience Counter: 151\n",
      "Epoch 178 Training loss 0.00018592932807402537 Validation Loss : 0.8868166406806262\n",
      "Earlystopping Patience Counter: 152\n",
      "Epoch 179 Training loss 0.0001796972496440859 Validation Loss : 0.8859957715323029\n",
      "Earlystopping Patience Counter: 153\n",
      "Epoch 180 Training loss 0.00017478401701529915 Validation Loss : 0.8853861949946721\n",
      "Earlystopping Patience Counter: 154\n",
      "Epoch 181 Training loss 0.00017087702298205256 Validation Loss : 0.8848686434811419\n",
      "Earlystopping Patience Counter: 155\n",
      "Epoch 182 Training loss 0.00016698387859780472 Validation Loss : 0.8844237291664276\n",
      "Earlystopping Patience Counter: 156\n",
      "Epoch 183 Training loss 0.00016373282402572866 Validation Loss : 0.8839902885886778\n",
      "Earlystopping Patience Counter: 157\n",
      "Epoch 184 Training loss 0.00016325009492974469 Validation Loss : 0.8875793358303774\n",
      "Earlystopping Patience Counter: 158\n",
      "Epoch 185 Training loss 0.00016269996144191237 Validation Loss : 0.8867293745863628\n",
      "Earlystopping Patience Counter: 159\n",
      "Epoch 186 Training loss 0.0001579428445518351 Validation Loss : 0.8861831639638709\n",
      "Earlystopping Patience Counter: 160\n",
      "Epoch 187 Training loss 0.00015447036878491927 Validation Loss : 0.8855344965323676\n",
      "Earlystopping Patience Counter: 161\n",
      "Epoch 188 Training loss 0.00015111225535877635 Validation Loss : 0.885114006535249\n",
      "Earlystopping Patience Counter: 162\n",
      "Epoch 189 Training loss 0.00014846567222845348 Validation Loss : 0.8848341715075086\n",
      "Earlystopping Patience Counter: 163\n",
      "Epoch 190 Training loss 0.00014573163838907746 Validation Loss : 0.8845842162863241\n",
      "Earlystopping Patience Counter: 164\n",
      "Epoch 191 Training loss 0.00014643103633704287 Validation Loss : 0.8876014974314104\n",
      "Earlystopping Patience Counter: 165\n",
      "Epoch 192 Training loss 0.00014373617752174814 Validation Loss : 0.8875392635797484\n",
      "Earlystopping Patience Counter: 166\n",
      "Epoch 193 Training loss 0.00014146053626990431 Validation Loss : 0.8871463571807882\n",
      "Earlystopping Patience Counter: 167\n",
      "Epoch 194 Training loss 0.00013838075174887776 Validation Loss : 0.8869464664564325\n",
      "Earlystopping Patience Counter: 168\n",
      "Epoch 195 Training loss 0.00013787061501199118 Validation Loss : 0.8895941515665509\n",
      "Earlystopping Patience Counter: 169\n",
      "Epoch 196 Training loss 0.00013710980307661056 Validation Loss : 0.8889788826778664\n",
      "Earlystopping Patience Counter: 170\n",
      "Epoch 197 Training loss 0.0001339554203595645 Validation Loss : 0.8885298646943496\n",
      "Earlystopping Patience Counter: 171\n",
      "Epoch 198 Training loss 0.00013105446605690557 Validation Loss : 0.8881817625798237\n",
      "Earlystopping Patience Counter: 172\n",
      "Epoch 199 Training loss 0.00012879064680550344 Validation Loss : 0.8878475834550654\n",
      "Earlystopping Patience Counter: 173\n",
      "Epoch 200 Training loss 0.00012644627932305376 Validation Loss : 0.8875269046028617\n",
      "Earlystopping Patience Counter: 174\n",
      "Epoch 201 Training loss 0.00012466395029286145 Validation Loss : 0.8873570759300118\n",
      "Earlystopping Patience Counter: 175\n",
      "Epoch 202 Training loss 0.0001238913111032536 Validation Loss : 0.8899661771517511\n",
      "Earlystopping Patience Counter: 176\n",
      "Epoch 203 Training loss 0.0001239398223129152 Validation Loss : 0.8895211579435633\n",
      "Earlystopping Patience Counter: 177\n",
      "Epoch 204 Training loss 0.00012125082653279236 Validation Loss : 0.8891514146411281\n",
      "Earlystopping Patience Counter: 178\n",
      "Epoch 205 Training loss 0.00011917001218895713 Validation Loss : 0.8887381857320199\n",
      "Earlystopping Patience Counter: 179\n",
      "Epoch 206 Training loss 0.0001171025572440493 Validation Loss : 0.8883237841650362\n",
      "Earlystopping Patience Counter: 180\n",
      "Epoch 207 Training loss 0.00011523846528932981 Validation Loss : 0.8880632208296134\n",
      "Earlystopping Patience Counter: 181\n",
      "Epoch 208 Training loss 0.00011408248883761284 Validation Loss : 0.8886712503409443\n",
      "Earlystopping Patience Counter: 182\n",
      "Epoch 209 Training loss 0.0001135266346868098 Validation Loss : 0.8907631407070122\n",
      "Earlystopping Patience Counter: 183\n",
      "Epoch 210 Training loss 0.00011372403763609498 Validation Loss : 0.8904726539890193\n",
      "Earlystopping Patience Counter: 184\n",
      "Epoch 211 Training loss 0.00011132096665009052 Validation Loss : 0.890058269070462\n",
      "Earlystopping Patience Counter: 185\n",
      "Epoch 212 Training loss 0.00010953193287955811 Validation Loss : 0.8897873597962404\n",
      "Earlystopping Patience Counter: 186\n",
      "Epoch 213 Training loss 0.00010764254613699989 Validation Loss : 0.8894739665811421\n",
      "Earlystopping Patience Counter: 187\n",
      "Epoch 214 Training loss 0.00010621832017226842 Validation Loss : 0.8892934867045345\n",
      "Earlystopping Patience Counter: 188\n",
      "Epoch 215 Training loss 0.00010682263451498187 Validation Loss : 0.8916714340750023\n",
      "Earlystopping Patience Counter: 189\n",
      "Epoch 216 Training loss 0.00010445695495732055 Validation Loss : 0.8913741822385226\n",
      "Earlystopping Patience Counter: 190\n",
      "Epoch 217 Training loss 0.00010289947010043572 Validation Loss : 0.8910656201356992\n",
      "Earlystopping Patience Counter: 191\n",
      "Epoch 218 Training loss 0.00010142323414325475 Validation Loss : 0.890829629114929\n",
      "Earlystopping Patience Counter: 192\n",
      "Epoch 219 Training loss 9.998423951560331e-05 Validation Loss : 0.8907118913857851\n",
      "Earlystopping Patience Counter: 193\n",
      "Epoch 220 Training loss 9.904348831541346e-05 Validation Loss : 0.8926884723111\n",
      "Earlystopping Patience Counter: 194\n",
      "Epoch 221 Training loss 9.962250561891597e-05 Validation Loss : 0.892404779265679\n",
      "Earlystopping Patience Counter: 195\n",
      "Epoch 222 Training loss 9.862415356512457e-05 Validation Loss : 0.8920431540122491\n",
      "Earlystopping Patience Counter: 196\n",
      "Epoch 223 Training loss 9.707920392298268e-05 Validation Loss : 0.8917751557840508\n",
      "Earlystopping Patience Counter: 197\n",
      "Epoch 224 Training loss 9.554599769086452e-05 Validation Loss : 0.8916400889950802\n",
      "Earlystopping Patience Counter: 198\n",
      "Epoch 225 Training loss 9.431246155083039e-05 Validation Loss : 0.8914551682120057\n",
      "Earlystopping Patience Counter: 199\n",
      "Epoch 226 Training loss 9.298385867222705e-05 Validation Loss : 0.8912032133334141\n",
      "Earlystopping Patience Counter: 200\n",
      "Epoch 227 Training loss 9.351352450782808e-05 Validation Loss : 0.8934375870842604\n",
      "Earlystopping Patience Counter: 201\n",
      "Epoch 228 Training loss 9.168294192768148e-05 Validation Loss : 0.8932878405447828\n",
      "Earlystopping Patience Counter: 202\n",
      "Epoch 229 Training loss 9.051248486236741e-05 Validation Loss : 0.8931001353276622\n",
      "Earlystopping Patience Counter: 203\n",
      "Epoch 230 Training loss 8.938529491046791e-05 Validation Loss : 0.8928630559175611\n",
      "Earlystopping Patience Counter: 204\n",
      "Epoch 231 Training loss 8.853831910706529e-05 Validation Loss : 0.8946893299357689\n",
      "Earlystopping Patience Counter: 205\n",
      "Epoch 232 Training loss 8.90577503216289e-05 Validation Loss : 0.8944420193609564\n",
      "Earlystopping Patience Counter: 206\n",
      "Epoch 233 Training loss 8.763743434211863e-05 Validation Loss : 0.8941437746906299\n",
      "Earlystopping Patience Counter: 207\n",
      "Epoch 234 Training loss 8.640861236644671e-05 Validation Loss : 0.8938410265788522\n",
      "Earlystopping Patience Counter: 208\n",
      "Epoch 235 Training loss 8.533021553519924e-05 Validation Loss : 0.8934756511724128\n",
      "Earlystopping Patience Counter: 209\n",
      "Epoch 236 Training loss 8.438875750183686e-05 Validation Loss : 0.8933337267729637\n",
      "Earlystopping Patience Counter: 210\n",
      "Epoch 237 Training loss 8.337578322132733e-05 Validation Loss : 0.8931382937818609\n",
      "Earlystopping Patience Counter: 211\n",
      "Epoch 238 Training loss 8.331407575775449e-05 Validation Loss : 0.8949151284836107\n",
      "Earlystopping Patience Counter: 212\n",
      "Epoch 239 Training loss 8.37275656853564e-05 Validation Loss : 0.894693415813123\n",
      "Earlystopping Patience Counter: 213\n",
      "Epoch 240 Training loss 8.237095365988083e-05 Validation Loss : 0.8944551216847982\n",
      "Earlystopping Patience Counter: 214\n",
      "Epoch 241 Training loss 8.123147576961053e-05 Validation Loss : 0.8942268226990112\n",
      "Earlystopping Patience Counter: 215\n",
      "Epoch 242 Training loss 8.031697658628043e-05 Validation Loss : 0.8940539893370834\n",
      "Earlystopping Patience Counter: 216\n",
      "Epoch 243 Training loss 7.931444828675465e-05 Validation Loss : 0.8939163585340207\n",
      "Earlystopping Patience Counter: 217\n",
      "Epoch 244 Training loss 7.851865613382689e-05 Validation Loss : 0.8937740135046149\n",
      "Earlystopping Patience Counter: 218\n",
      "Epoch 245 Training loss 7.870053728062762e-05 Validation Loss : 0.8957001772389397\n",
      "Earlystopping Patience Counter: 219\n",
      "Epoch 246 Training loss 7.756858310793024e-05 Validation Loss : 0.8955258410687107\n",
      "Earlystopping Patience Counter: 220\n",
      "Epoch 247 Training loss 7.669685152399852e-05 Validation Loss : 0.8953366054747819\n",
      "Earlystopping Patience Counter: 221\n",
      "Epoch 248 Training loss 7.586282975835408e-05 Validation Loss : 0.8951397096755596\n",
      "Earlystopping Patience Counter: 222\n",
      "Epoch 249 Training loss 7.599232082370906e-05 Validation Loss : 0.8967695256984616\n",
      "Earlystopping Patience Counter: 223\n"
     ]
    },
    {
     "data": {
      "image/png": "[encoded data removed]",
      "text/plain": [
       "<Figure size 640x480 with 1 Axes>"
      ]
     },
     "metadata": {},
     "output_type": "display_data"
    },
    {
     "name": "stdout",
     "output_type": "stream",
     "text": [
      "Finished Training\n",
      "Accuracy score of this model: 0.9507772020725389\n",
      "F1 score of this model: 0.9489247311827959\n",
      "Recall score of this model: 0.9097938144329897\n",
      "Precision score of this model: 0.9915730337078652\n",
      "Total time is 54.902525663375854\n"
     ]
    }
   ],
   "source": [
    "\n",
    "import torch.optim as optim\n",
    "model = MLP(input_size, hidden_size1, hidden_size2, output_size)\n",
    "criterion = nn.BCELoss() # BinaryCrossEntropyLoss\n",
    "optimizer = optim.SGD(model.parameters(), lr=0.5) \n",
    "batch_size = 4\n",
    "num_epochs = 250\n",
    "patience = 2000\n",
    "train_loss_list = []\n",
    "val_loss_list = []\n",
    "best_val_loss=None\n",
    "patience_counter=0\n",
    "import time\n",
    "start = time.time()\n",
    "seed_value = 190401037\n",
    "torch.manual_seed(seed_value)\n",
    "\n",
    "for epoch in range(num_epochs):\n",
    "    epoch_train_loss = []\n",
    "    for i in range(0, len(x_train), batch_size):\n",
    "        inputs = x_train[i:i+batch_size]\n",
    "        labels = y_train[i:i+batch_size]\n",
    "\n",
    "        optimizer.zero_grad()\n",
    "\n",
    "        outputs = model(inputs)\n",
    "\n",
    "        loss = criterion(outputs, labels)\n",
    "        loss.backward()\n",
    "\n",
    "        optimizer.step()\n",
    "\n",
    "        epoch_train_loss.append(loss.item())\n",
    "\n",
    "    train_loss = np.mean(epoch_train_loss)\n",
    "\n",
    "    train_loss_list.append(train_loss)\n",
    "\n",
    "    val_loss = 0.0\n",
    "\n",
    "    with torch.no_grad():\n",
    "        model.eval()\n",
    "        for val_x, val_y in zip(x_valid,y_valid):\n",
    "            outs = model(val_x)\n",
    "            loss = criterion(outs, val_y)\n",
    "            val_loss += loss.item()\n",
    "\n",
    "    model.train()\n",
    "\n",
    "  \n",
    "    val_loss /= x_valid.shape[0]\n",
    "\n",
    "    print(\"Epoch\", epoch, \"Training loss\", train_loss,\"Validation Loss :\",val_loss)\n",
    "\n",
    "    val_loss_list.append(val_loss)\n",
    "\n",
    "    val_score = val_loss\n",
    "    \n",
    "    if best_val_loss is None:\n",
    "        best_val_loss = val_score\n",
    "        torch.save(model.state_dict(), \"checkpoint.pt\")\n",
    "    elif best_val_loss < val_score: \n",
    "        patience_counter += 1\n",
    "        print(\"Earlystopping Patience Counter:\",patience_counter)\n",
    "        if patience_counter == patience:\n",
    "            break\n",
    "    else:\n",
    "        best_val_loss = val_score\n",
    "        torch.save(model.state_dict(), \"checkpoint.pt\") \n",
    "        patience_counter = 0\n",
    "plt.plot(train_loss_list, label=\"Training loss\")\n",
    "plt.plot(val_loss_list, label=\"Validation loss\")\n",
    "plt.xlabel(\"Epoch\")\n",
    "plt.ylabel(\"Loss\")\n",
    "plt.legend()\n",
    "plt.show()\n",
    "\n",
    "\n",
    "print('Finished Training')\n",
    "model = MLP(input_size, hidden_size1, hidden_size2, output_size)\n",
    "model.load_state_dict(torch.load('checkpoint.pt'))\n",
    "model.eval()\n",
    "predicts =[]\n",
    "real_labels = list()\n",
    "with torch.no_grad():\n",
    "    for inputs,label in zip(x_test,y_test):\n",
    "        outputs = model(inputs)\n",
    "        predict = round(float(outputs.data))\n",
    "        predicts.append(predict)\n",
    "        real_labels.extend(label.tolist())\n",
    "from sklearn.metrics import accuracy_score,f1_score,recall_score, precision_score\n",
    "print(\"Accuracy score of this model: {}\".format(accuracy_score(real_labels,predicts)))\n",
    "print(\"F1 score of this model: {}\".format(f1_score(real_labels,predicts)))\n",
    "print(\"Recall score of this model: {}\".format(recall_score(real_labels,predicts)))\n",
    "print(\"Precision score of this model: {}\".format(precision_score(real_labels,predicts)))\n",
    "end = time.time()\n",
    "print(\"Total time is {}\".format(end-start))"
   ]
  },
  {
   "cell_type": "code",
   "execution_count": null,
   "metadata": {
    "canvas": {
     "comments": [],
     "componentType": "CodeCell",
     "copiedOriginId": null,
     "diskcache": false,
     "headerColor": "none",
     "id": "ca38f3de-e273-4c9a-a650-15b66cf5c903",
     "isComponent": false,
     "name": "",
     "parents": []
    },
    "id": "yq0hZhVyv4Fk"
   },
   "outputs": [],
   "source": []
  }
 ],
 "metadata": {
  "accelerator": "GPU",
  "canvas": {
   "colorPalette": [
    "inherit",
    "inherit",
    "inherit",
    "inherit",
    "inherit",
    "inherit",
    "inherit",
    "inherit",
    "inherit",
    "inherit"
   ],
   "parameters": []
  },
  "colab": {
   "provenance": []
  },
  "gpuClass": "standard",
  "kernelspec": {
   "display_name": "Python 3 (ipykernel)",
   "language": "python",
   "name": "python3"
  },
  "language_info": {
   "codemirror_mode": {
    "name": "ipython",
    "version": 3
   },
   "file_extension": ".py",
   "mimetype": "text/x-python",
   "name": "python",
   "nbconvert_exporter": "python",
   "pygments_lexer": "ipython3",
   "version": "3.9.12"
  }
 },
 "nbformat": 4,
 "nbformat_minor": 4
}
